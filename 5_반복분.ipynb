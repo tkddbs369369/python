{
  "nbformat": 4,
  "nbformat_minor": 0,
  "metadata": {
    "colab": {
      "name": "5_반복분.ipynb",
      "provenance": [],
      "authorship_tag": "ABX9TyP+YmnJHGdnLTPFcFtCCIe4",
      "include_colab_link": true
    },
    "kernelspec": {
      "name": "python3",
      "display_name": "Python 3"
    },
    "language_info": {
      "name": "python"
    }
  },
  "cells": [
    {
      "cell_type": "markdown",
      "metadata": {
        "id": "view-in-github",
        "colab_type": "text"
      },
      "source": [
        "<a href=\"https://colab.research.google.com/github/tkddbs369369/python/blob/main/5_%EB%B0%98%EB%B3%B5%EB%B6%84.ipynb\" target=\"_parent\"><img src=\"https://colab.research.google.com/assets/colab-badge.svg\" alt=\"Open In Colab\"/></a>"
      ]
    },
    {
      "cell_type": "markdown",
      "metadata": {
        "id": "YaGpyaP96Gkn"
      },
      "source": [
        "##**학습목표**\n",
        "- 반복문의 이해 (for)\n",
        "- range 함수 이해\n"
      ]
    },
    {
      "cell_type": "markdown",
      "metadata": {
        "id": "-IwkhB8H6Uz4"
      },
      "source": [
        "###**for 반복문**\n",
        "- 리스트 ex)[1,2,3,4]\n",
        "- 리스트 문자열 등등 순회를 하면서 값을 처리할 때 사용\n",
        "- i는 매번 수행때마다 a리스트 안의 값으로 순차적으로 변경된다.\n",
        "- 모든 a 안의 값이 수행되면 for 문의 블록이 종료된다."
      ]
    },
    {
      "cell_type": "code",
      "metadata": {
        "colab": {
          "base_uri": "https://localhost:8080/"
        },
        "id": "hIr9CFJV62sA",
        "outputId": "662db2e5-ed53-4ef0-dc7d-9f3658783c7b"
      },
      "source": [
        "a = [1,2,3,4,5] #list\n",
        "\n",
        "for i in a:\n",
        "  print(i,i*2)\n",
        "print('최종i값:',i)"
      ],
      "execution_count": 4,
      "outputs": [
        {
          "output_type": "stream",
          "name": "stdout",
          "text": [
            "1 2\n",
            "2 4\n",
            "3 6\n",
            "4 8\n",
            "5 10\n",
            "최종i값: 5\n"
          ]
        }
      ]
    },
    {
      "cell_type": "code",
      "metadata": {
        "id": "53Dj98nS7IyS",
        "colab": {
          "base_uri": "https://localhost:8080/"
        },
        "outputId": "de92087f-dc09-4377-c622-e165f6e5f052"
      },
      "source": [
        "#문자열의 아이템 출력\n",
        " \n",
        "for x in 'hello Comnet A':\n",
        "  print(x)"
      ],
      "execution_count": 6,
      "outputs": [
        {
          "output_type": "stream",
          "name": "stdout",
          "text": [
            "h\n",
            "e\n",
            "l\n",
            "l\n",
            "o\n",
            " \n",
            "C\n",
            "o\n",
            "m\n",
            "n\n",
            "e\n",
            "t\n",
            " \n",
            "A\n"
          ]
        }
      ]
    },
    {
      "cell_type": "code",
      "metadata": {
        "colab": {
          "base_uri": "https://localhost:8080/"
        },
        "id": "6VWsHhzC8vVH",
        "outputId": "ee6ed074-0a7b-4815-89a9-80900ead32bb"
      },
      "source": [
        "a = [1,10,8,29,18] #짝수와 홀수\n",
        "for i in a:\n",
        "  if i % 2 == 0:\n",
        "    print(i//2) # 2로 나눈다. (정수만 출력)\n",
        "  else: #홀수\n",
        "    print(i*2) #2를 곱한다"
      ],
      "execution_count": 8,
      "outputs": [
        {
          "output_type": "stream",
          "name": "stdout",
          "text": [
            "2\n",
            "5\n",
            "4\n",
            "58\n",
            "9\n"
          ]
        }
      ]
    },
    {
      "cell_type": "markdown",
      "metadata": {
        "id": "i8WofPndH7BO"
      },
      "source": [
        ""
      ]
    },
    {
      "cell_type": "code",
      "metadata": {
        "colab": {
          "base_uri": "https://localhost:8080/"
        },
        "id": "17UUNU3kIYN5",
        "outputId": "d4a98db3-104e-4b76-f9a5-eef031c832a5"
      },
      "source": [
        "# 첫줄에 테스트 케이스가 주어지고\n",
        "# 두번째 줄부터 나오는 수를 입력받아\n",
        "# 테스트 케이스만큼 각수를 더하는 문제\n",
        "\n",
        "a = int(input())\n",
        "\n",
        "for a in range(a):\n",
        "    c, b = input().split()\n",
        "    c = int(c)\n",
        "    b = int(b)\n",
        "    print(c + b)"
      ],
      "execution_count": 9,
      "outputs": [
        {
          "output_type": "stream",
          "name": "stdout",
          "text": [
            "3\n",
            "1 2\n",
            "3\n",
            "5 1\n",
            "6\n",
            "2 3\n",
            "5\n"
          ]
        }
      ]
    },
    {
      "cell_type": "markdown",
      "metadata": {
        "id": "rcVKU9yiH7Eu"
      },
      "source": [
        "### **break, continue**\n",
        "* break\n",
        "- 특정 조건을 만족할 떄, 블록을 빠져나오기 위해서 사용\n"
      ]
    },
    {
      "cell_type": "code",
      "metadata": {
        "colab": {
          "base_uri": "https://localhost:8080/"
        },
        "id": "aoX-X8LBI7Jc",
        "outputId": "247edffe-46c8-408c-ed0a-996e0d03ed01"
      },
      "source": [
        "a = [1,10,8,29,18]\n",
        "\n",
        "for i in a:\n",
        "  if i > 20:\n",
        "    break\n",
        "  print(i)"
      ],
      "execution_count": 10,
      "outputs": [
        {
          "output_type": "stream",
          "name": "stdout",
          "text": [
            "1\n",
            "10\n",
            "8\n"
          ]
        }
      ]
    },
    {
      "cell_type": "markdown",
      "metadata": {
        "id": "swutreg3Jpax"
      },
      "source": [
        "## **continue**\n",
        "- 조건문으로 돌아감\n"
      ]
    },
    {
      "cell_type": "code",
      "metadata": {
        "colab": {
          "base_uri": "https://localhost:8080/"
        },
        "id": "5hwfrQcfJxgN",
        "outputId": "f0284fe8-19a4-4429-e741-4d02049a5834"
      },
      "source": [
        "a = [3,9,7,29,18]\n",
        "\n",
        "for i in a:\n",
        "  if i>5 and i<20:\n",
        "    continue\n",
        "  print(i)"
      ],
      "execution_count": 11,
      "outputs": [
        {
          "output_type": "stream",
          "name": "stdout",
          "text": [
            "3\n",
            "29\n"
          ]
        }
      ]
    },
    {
      "cell_type": "code",
      "metadata": {
        "colab": {
          "base_uri": "https://localhost:8080/"
        },
        "id": "cE9KeAvbTENf",
        "outputId": "c86064dc-610d-4b37-f68f-98235fe38386"
      },
      "source": [
        "#a 리스트가 있을때\n",
        "# 짝수는 *2 홀수는 skip   0은 종료하라\n",
        "a = [3, 2, 5, 10 ,2 , 3, 12 ,3 ,4 ,0 ,2 ,4]\n",
        "\n",
        "for i in a:\n",
        "    if i == 0:\n",
        "        break\n",
        "    elif i % 2 == 1:\n",
        "        continue\n",
        "    else:\n",
        "        print(i * 2)"
      ],
      "execution_count": 13,
      "outputs": [
        {
          "output_type": "stream",
          "name": "stdout",
          "text": [
            "4\n",
            "20\n",
            "4\n",
            "24\n",
            "8\n"
          ]
        }
      ]
    },
    {
      "cell_type": "markdown",
      "metadata": {
        "id": "05EtyJeVToff"
      },
      "source": [
        "### **range 함수**\n",
        "- list or tuple을 쉽게만들수있는 함수\n",
        "- 주어진 값에 따라 다향한 결과를 반환\n",
        "```python\n",
        "range(10)     [0,1,2,3,4,5,6,7,8,9]\n",
        "range(2,10)   [2,3,4,5,6,7,8,9]\n",
        "renge(2,10,3) [2,5,8]\n",
        "```\n"
      ]
    },
    {
      "cell_type": "code",
      "metadata": {
        "colab": {
          "base_uri": "https://localhost:8080/"
        },
        "id": "vsnOX-6dVSHe",
        "outputId": "f8d2327c-28cf-4ff6-d26f-7447de2acb47"
      },
      "source": [
        "list(range(10))\n",
        "list(range(2,10))\n",
        "list(range(2,10,3))"
      ],
      "execution_count": 16,
      "outputs": [
        {
          "output_type": "execute_result",
          "data": {
            "text/plain": [
              "[2, 5, 8]"
            ]
          },
          "metadata": {},
          "execution_count": 16
        }
      ]
    },
    {
      "cell_type": "markdown",
      "metadata": {
        "id": "5eu0bbPOVyHs"
      },
      "source": [
        "#### **구구단 출력하기**\n",
        "- 2단부터 9단까지\n",
        "- 각 단은 1부터 9까지 곱하도록\n",
        "\n",
        "\n"
      ]
    },
    {
      "cell_type": "code",
      "metadata": {
        "id": "YnGAfiSJW61S"
      },
      "source": [
        "for i in range(2,10):\n",
        "    for a in range(2,10):\n",
        "        print(f' {i} * {a}는 {i * a} ',end=\"\")  # end=\"\" 줄 붙여 쓰기\n",
        "\n",
        "    print(\"\") # 2단,3단 별로 줄 띄어쓰기\n",
        "    "
      ],
      "execution_count": null,
      "outputs": []
    },
    {
      "cell_type": "code",
      "metadata": {
        "id": "KbbLFPG1XkpF"
      },
      "source": [
        "####### 연습한 코드\n",
        "\n",
        "\n",
        "################################     10950 for로 풀기\n",
        "a = int(input())\n",
        "for a in range(a):\n",
        "    c, b = input().split()\n",
        "    c = int(c)\n",
        "    b = int(b)\n",
        "\n",
        "    print(c + b)\n",
        "\n",
        "a = int(input())\n",
        "count = 0\n",
        "\n",
        "################################     10950 while로 풀기\n",
        "while count < a:\n",
        "    count = count + 1\n",
        "    c, b = map(int, input().split())\n",
        "    c = int(c)\n",
        "    b = int(b)\n",
        "\n",
        "    print(c + b)\n",
        "\n",
        "a = [3, 2, 5, 10 ,2 , 3, 12 ,3 ,4 ,0 ,2 ,4]\n",
        "\n",
        "for i in a:\n",
        "    if i == 0:\n",
        "        break\n",
        "    elif i % 2 == 1:\n",
        "        continue\n",
        "    else:\n",
        "        print(i * 2)\n",
        "        \n",
        "        \n",
        "\n",
        "\n",
        " #구구단\n",
        "for i in range(2,10):\n",
        "    for a in range(2,10):\n",
        "        print(f' {i} * {a}는 {i * a} ',end=\"\") #줄 이어쓰기\n",
        "\n",
        "    print(\"\") #단 단위로 띄어쓰기"
      ],
      "execution_count": null,
      "outputs": []
    }
  ]
}