{
  "nbformat": 4,
  "nbformat_minor": 0,
  "metadata": {
    "colab": {
      "name": "3.ipynb",
      "provenance": [],
      "collapsed_sections": [],
      "authorship_tag": "ABX9TyN3Kp45sPfLO39V3dxHfUVR",
      "include_colab_link": true
    },
    "kernelspec": {
      "name": "python3",
      "display_name": "Python 3"
    },
    "language_info": {
      "name": "python"
    }
  },
  "cells": [
    {
      "cell_type": "markdown",
      "metadata": {
        "id": "view-in-github",
        "colab_type": "text"
      },
      "source": [
        "<a href=\"https://colab.research.google.com/github/tkddbs369369/python/blob/main/3.ipynb\" target=\"_parent\"><img src=\"https://colab.research.google.com/assets/colab-badge.svg\" alt=\"Open In Colab\"/></a>"
      ]
    },
    {
      "cell_type": "code",
      "metadata": {
        "colab": {
          "base_uri": "https://localhost:8080/"
        },
        "id": "DfUUZ5saECol",
        "outputId": "6d773c66-99e9-4803-b265-96c3dab7e300"
      },
      "source": [
        "a = str('123')\n",
        "b = ' \\' 안녕 \\' \" test \" '\n",
        "print(b)"
      ],
      "execution_count": null,
      "outputs": [
        {
          "output_type": "stream",
          "text": [
            " ' 안녕 ' \" test \" \n"
          ],
          "name": "stdout"
        }
      ]
    },
    {
      "cell_type": "markdown",
      "metadata": {
        "id": "v5SgMp4JEjqf"
      },
      "source": [
        "##**문자열(String)**\n",
        "- 여러 개의 문자를 순서대로 나열한 것\n",
        "- 문자dufdms '' 혹은 \"\"사이에 문자를 넣어서 사용\n",
        "- 문자열 자체에 \" ' 가 있는경우 반대의 기호를 생성 \n"
      ]
    },
    {
      "cell_type": "markdown",
      "metadata": {
        "id": "eeykS8FWFmne"
      },
      "source": [
        "##**이스케이프 문자(escape)**\n",
        "- 문자열 내의 문자의 의미를 달리하여 특정한 효과\n",
        "- enter ,tab\n",
        "- \\n (다음줄)\n",
        "- \\t (tap)\n"
      ]
    },
    {
      "cell_type": "code",
      "metadata": {
        "colab": {
          "base_uri": "https://localhost:8080/"
        },
        "id": "-WvJkiJPFr0F",
        "outputId": "60a8eddc-da70-4fbf-a2f1-dc0d265a12ca"
      },
      "source": [
        "print('안녕하세요 \\n 제 이름은 \\t \\'박상윤\\'일껄요 \\t 직업은  읎어요')"
      ],
      "execution_count": null,
      "outputs": [
        {
          "output_type": "stream",
          "text": [
            "안녕하세요 \n",
            " 제 이름은 \t '박상윤'일껄요 \t 직업은  읎어요\n"
          ],
          "name": "stdout"
        }
      ]
    },
    {
      "cell_type": "markdown",
      "metadata": {
        "id": "tuFAvgn2HS3u"
      },
      "source": [
        "##**문자열의 인덱스(index) 및 추출**\n",
        "- 문자열의 각 문자는 순서가 있음 '인덱스'\n",
        "- 첫번째 문자부터 마지막까지 차례대로 순서를 가짐\n",
        "#- 시작은 0부터"
      ]
    },
    {
      "cell_type": "code",
      "metadata": {
        "colab": {
          "base_uri": "https://localhost:8080/"
        },
        "id": "B_yAiqpxHsZ0",
        "outputId": "40e9f489-3e11-4238-9732-b6288b8b65f3"
      },
      "source": [
        "a = 'hello world!' #번호는 11번까지\n",
        "print(len(a)) #길이\n",
        "print(a[0] , a[4])"
      ],
      "execution_count": null,
      "outputs": [
        {
          "output_type": "stream",
          "text": [
            "12\n",
            "h o\n"
          ],
          "name": "stdout"
        }
      ]
    },
    {
      "cell_type": "markdown",
      "metadata": {
        "id": "qnnlpQegIQz3"
      },
      "source": [
        "##**-1 인댁스**\n",
        "- 다른 언어와 달리 python만의 특징 (음수의 index지원)\n",
        "- -1이 가장 오른쪽 문자 -2가 오른쪽에서 두번째 문자를 나타냄\n",
        "- 범위를 벗어나면 Error"
      ]
    },
    {
      "cell_type": "code",
      "metadata": {
        "colab": {
          "base_uri": "https://localhost:8080/"
        },
        "id": "OVty5GR4IgKz",
        "outputId": "8de9ee00-a120-469f-df07-88f4d3f5fd58"
      },
      "source": [
        "print(a[-1], a[-11]) \n",
        "#print(a[13])# 범위를 벗어나면 error"
      ],
      "execution_count": null,
      "outputs": [
        {
          "output_type": "stream",
          "text": [
            "! e\n"
          ],
          "name": "stdout"
        }
      ]
    },
    {
      "cell_type": "markdown",
      "metadata": {
        "id": "U7aXst-nJ7_X"
      },
      "source": [
        "## **문자열 슬라이싱(slicing)**\n",
        "- index로 추출할 떄는 한글자만 추출 한다면.\n",
        "- 슬라이싱은 부분적으로 문자열을 추출한다.\n",
        "- 만약 시작이나  끝이 생략되어 있다면 0부터 혹운 끝까지로 간주해 추출"
      ]
    },
    {
      "cell_type": "code",
      "metadata": {
        "colab": {
          "base_uri": "https://localhost:8080/"
        },
        "id": "7P7ff-CfKhUe",
        "outputId": "adc4d55e-b921-4098-d1a9-fb0859fc06c0"
      },
      "source": [
        "print(a[3:10])\n",
        "print(a[:10])\n",
        "print(a[3:])\n",
        "\n"
      ],
      "execution_count": null,
      "outputs": [
        {
          "output_type": "stream",
          "text": [
            "lo worl\n",
            "hello worl\n",
            "lo world!\n"
          ],
          "name": "stdout"
        }
      ]
    },
    {
      "cell_type": "markdown",
      "metadata": {
        "id": "aK_J7lUDLCgH"
      },
      "source": [
        "##**문자열의 내장함수**\n",
        "- 문자열에 어려가지 기능을 제공"
      ]
    },
    {
      "cell_type": "code",
      "metadata": {
        "colab": {
          "base_uri": "https://localhost:8080/"
        },
        "id": "WNunNflOLIX3",
        "outputId": "b63b192e-1eb9-4a9b-f022-ee2f97ff2cbb"
      },
      "source": [
        "a.upper()\n",
        "a.replace('H','J')\n",
        "a.replace('hello','i')\n",
        "print(len(a))\n",
        "print(a.count('l'))\n",
        "print(a.find('w'))  #없을떄 -1 반환\n",
        "print(a.index('w'))  #없을떄 error출력\n",
        "print(a.lower())\n",
        "print(a.upper())\n",
        "b = '!'.join(a)\n",
        "print(b)"
      ],
      "execution_count": null,
      "outputs": [
        {
          "output_type": "stream",
          "text": [
            "12\n",
            "3\n",
            "6\n",
            "6\n",
            "hello world!\n",
            "HELLO WORLD!\n",
            "h!e!l!l!o! !w!o!r!l!d!!\n"
          ],
          "name": "stdout"
        }
      ]
    },
    {
      "cell_type": "markdown",
      "metadata": {
        "id": "iA4qyTEwSd8q"
      },
      "source": [
        "## **format**\n",
        "- 문자열내의 특정한 값을 변수로 부터 초기화하여 동적으로 문자열을 생성\n"
      ]
    },
    {
      "cell_type": "code",
      "metadata": {
        "colab": {
          "base_uri": "https://localhost:8080/"
        },
        "id": "SmxVKqUYS9ff",
        "outputId": "9393264b-5dc9-4d9f-c340-f559a221556a"
      },
      "source": [
        "temp = 23\n",
        "per= 70\n",
        "n = '현재기온은 {}이고. 비올 확율은 {}%입니다.'.format(temp,per)\n",
        "n1 = f'현재기온은 {temp}이고. 비올 확율은 {per}%입니다.'\n",
        "print(n)\n",
        "print(n1)\n",
        "cla = 3\n",
        "n2 = f'현재 프로그래밍 시간은 {cla}교시이다'\n",
        "print(n2)"
      ],
      "execution_count": null,
      "outputs": [
        {
          "output_type": "stream",
          "text": [
            "현재기온은 23이고. 비올 확율은 70%입니다.\n",
            "현재기온은 23이고. 비올 확율은 70%입니다.\n",
            "현재 프로그래밍 시간은 3교시이다\n"
          ],
          "name": "stdout"
        }
      ]
    },
    {
      "cell_type": "markdown",
      "metadata": {
        "id": "wZN2H00uVHnL"
      },
      "source": [
        ""
      ]
    },
    {
      "cell_type": "markdown",
      "metadata": {
        "id": "-zBPZsVTVHz7"
      },
      "source": [
        "##**split**\n",
        "- 문자열을 특정한 문자로 구분하여 문자열 치환"
      ]
    },
    {
      "cell_type": "code",
      "metadata": {
        "colab": {
          "base_uri": "https://localhost:8080/"
        },
        "id": "5lJzlKcHVV57",
        "outputId": "3e4d6786-ac3d-4a14-fda1-cda83ac49bca"
      },
      "source": [
        "a = 'what a wonderful day! nice weather'\n",
        "a.split('w')"
      ],
      "execution_count": null,
      "outputs": [
        {
          "output_type": "execute_result",
          "data": {
            "text/plain": [
              "['', 'hat a ', 'onderful day! nice ', 'eather']"
            ]
          },
          "metadata": {},
          "execution_count": 73
        }
      ]
    }
  ]
}