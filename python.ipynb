{
  "nbformat": 4,
  "nbformat_minor": 0,
  "metadata": {
    "colab": {
      "name": "python",
      "provenance": [],
      "collapsed_sections": [],
      "authorship_tag": "ABX9TyM7PNWYPA+1JxHyUjQMiwhW",
      "include_colab_link": true
    },
    "kernelspec": {
      "name": "python3",
      "display_name": "Python 3"
    },
    "language_info": {
      "name": "python"
    }
  },
  "cells": [
    {
      "cell_type": "markdown",
      "metadata": {
        "id": "view-in-github",
        "colab_type": "text"
      },
      "source": [
        "<a href=\"https://colab.research.google.com/github/tkddbs369369/python/blob/main/python.ipynb\" target=\"_parent\"><img src=\"https://colab.research.google.com/assets/colab-badge.svg\" alt=\"Open In Colab\"/></a>"
      ]
    },
    {
      "cell_type": "markdown",
      "metadata": {
        "id": "2u7lJJdtaf8M"
      },
      "source": [
        ""
      ]
    },
    {
      "cell_type": "markdown",
      "metadata": {
        "id": "kvYQnQ-vagBc"
      },
      "source": [
        "## **학습목표**\n",
        "1. python에서 변수의 의미 이해 \n",
        "2. 기본 데이터 타입 선언\n",
        "  - int, float, str, bool  \n",
        "\n",
        "시험 = 함수(교과서 출재)\n"
      ]
    },
    {
      "cell_type": "markdown",
      "metadata": {
        "id": "Y-5ynnSsb0_M"
      },
      "source": [
        "## = 대입 연산자\n",
        "- 오른쪽 수식이나 값을 계산한 후 왼쪽에 명시된 변수에 해당 값을 대입\n",
        "- 변수는 해당 값을 가짐\n"
      ]
    },
    {
      "cell_type": "code",
      "metadata": {
        "id": "m5fK-mnFcCxX"
      },
      "source": [
        "a = 10 #int\n",
        "b = 11.4 #float"
      ],
      "execution_count": null,
      "outputs": []
    },
    {
      "cell_type": "markdown",
      "metadata": {
        "id": "ZCwzyyAgcr5k"
      },
      "source": [
        "## **주석**\n",
        "\n",
        "- 코드에서 #으로 시작하는 뒷부분\n",
        "- 파이썬에서는 소스코드를 실행할 떄 #을 만나면 무시\n",
        "- 주석 용도로 사용\n",
        " "
      ]
    },
    {
      "cell_type": "code",
      "metadata": {
        "id": "asBRa9sHc8ss"
      },
      "source": [
        "#thon line is very important\n",
        "#so don't delete it\n",
        "math = 75"
      ],
      "execution_count": null,
      "outputs": []
    },
    {
      "cell_type": "markdown",
      "metadata": {
        "id": "fdAGVeCqd7R0"
      },
      "source": [
        "## **변수값 확인법**\n",
        "- print()사용\n",
        "- 코드의 마지막에 변수 값을 위치시킨 후 실행\n"
      ]
    },
    {
      "cell_type": "code",
      "metadata": {
        "colab": {
          "base_uri": "https://localhost:8080/"
        },
        "id": "bQq3p98DeZHc",
        "outputId": "844aeebe-a7a9-4f71-e3c1-1f05eaa0607a"
      },
      "source": [
        "a = 10\n",
        "b = 11.4\n",
        "print(a,b)\n",
        "print(a)\n",
        "a,b"
      ],
      "execution_count": 18,
      "outputs": [
        {
          "output_type": "stream",
          "text": [
            "10 11.4\n",
            "10\n"
          ],
          "name": "stdout"
        },
        {
          "output_type": "execute_result",
          "data": {
            "text/plain": [
              "(10, 11.4)"
            ]
          },
          "metadata": {},
          "execution_count": 18
        }
      ]
    },
    {
      "cell_type": "markdown",
      "metadata": {
        "id": "ybuNP-nNgVsM"
      },
      "source": [
        "### ***print 함수***\n",
        "- 함수란 특정 기능을 반복적으로 호출하여 사용가능한 코드 블럭\n",
        "- ,로 여러 변수를 한줄에 출력\n",
        "- 기본적으로 한칸 띄어쓰기 후 출력\n",
        "\n"
      ]
    },
    {
      "cell_type": "code",
      "metadata": {
        "id": "xGdCNL5IgmkU",
        "colab": {
          "base_uri": "https://localhost:8080/"
        },
        "outputId": "4233dc0e-29ea-4e68-a43b-6c5ce8e503e3"
      },
      "source": [
        "print(a,b)\n",
        "print(a , 10, 200, b)\n",
        "print('민재 맛있니')"
      ],
      "execution_count": 17,
      "outputs": [
        {
          "output_type": "stream",
          "text": [
            "6 4\n",
            "6 10 200 4\n",
            "민재 맛있니\n"
          ],
          "name": "stdout"
        }
      ]
    },
    {
      "cell_type": "markdown",
      "metadata": {
        "id": "nUqjy0k3hW-i"
      },
      "source": [
        "** print 함수 설정**\n",
        "- sep(구분자):각 변수 사이에서 구분해주는 역할\n",
        "- end:마지막에 출력할 문자열 "
      ]
    },
    {
      "cell_type": "code",
      "metadata": {
        "colab": {
          "base_uri": "https://localhost:8080/"
        },
        "id": "6rUi6sPxhefj",
        "outputId": "edc913b3-0ec7-46fb-b1be-6f74ce7be4b5"
      },
      "source": [
        "print(a,b,200,'대충이름',sep='#',end='!!')"
      ],
      "execution_count": 16,
      "outputs": [
        {
          "output_type": "stream",
          "text": [
            "6#4#200#대충이름!!"
          ],
          "name": "stdout"
        }
      ]
    },
    {
      "cell_type": "markdown",
      "metadata": {
        "id": "tliwGohF23Ib"
      },
      "source": [
        "##**변수 이름 규칙**\n",
        "\n",
        "- 시작을 영문 대소문자_ 구성가능\n",
        "- BUT 숫자는 불가능\n",
        "- 일반적으로 변수를 사용할 떄 정확하고 간결한 이름을 사용하는 것이 원칙 "
      ]
    },
    {
      "cell_type": "code",
      "metadata": {
        "id": "o1CXs9gE3RRC"
      },
      "source": [
        "___abc = 1000\n",
        "abcABC = 100\n",
        "ACBV = 100\n",
        "\n",
        "#4ever = 44\n",
        "\n",
        "\n"
      ],
      "execution_count": null,
      "outputs": []
    },
    {
      "cell_type": "markdown",
      "metadata": {
        "id": "JxwPX30i3sTT"
      },
      "source": [
        "# **예약어(키워드)**\n",
        "\n",
        "-파이썬에서 미리 사용중인 키워드\n",
        "-import for while if 등\n"
      ]
    },
    {
      "cell_type": "code",
      "metadata": {
        "id": "cDD0QiNd3_dB"
      },
      "source": [
        "_for = 123\n",
        "#for = 321\n"
      ],
      "execution_count": null,
      "outputs": []
    },
    {
      "cell_type": "markdown",
      "metadata": {
        "id": "q3F3PwAf4QlD"
      },
      "source": [
        "## **기본 데이터 타입**\n",
        "\n",
        "- 실수(float)\n",
        "\n",
        "- 정수(int) \n",
        "\n",
        "- 문자열(str)\n",
        "\n",
        "- 불리언(bool)\n",
        "\n",
        "- type() 함수\n",
        "  - 해당변수,값을 타입(type)을 알고자 할 떄 사용\n"
      ]
    },
    {
      "cell_type": "code",
      "metadata": {
        "id": "QCwS4rMl4WvA",
        "colab": {
          "base_uri": "https://localhost:8080/"
        },
        "outputId": "cae3e3e2-c613-47ae-f934-5f0791a977c2"
      },
      "source": [
        "aa = 100\n",
        "v = 11.3\n",
        "c = '문자열'\n",
        "\n",
        "\n",
        "print(v)\n"
      ],
      "execution_count": null,
      "outputs": [
        {
          "output_type": "stream",
          "text": [
            "11.3\n"
          ],
          "name": "stdout"
        }
      ]
    },
    {
      "cell_type": "markdown",
      "metadata": {
        "id": "G54ssENG7H-t"
      },
      "source": [
        "## **NONE**\n",
        "- 아무런 값을 갖지 않을 때 사용\n",
        "- 일반적으로 변수가 초기값을 갖지 않게 하기 위해 사용\n",
        "- NULL값과 같은 의미"
      ]
    },
    {
      "cell_type": "code",
      "metadata": {
        "colab": {
          "base_uri": "https://localhost:8080/"
        },
        "id": "1LwXrxK57L0w",
        "outputId": "71c5906d-c6ef-4587-ce51-d763f1de3277"
      },
      "source": [
        "o = None\n",
        "print(o)"
      ],
      "execution_count": null,
      "outputs": [
        {
          "output_type": "stream",
          "text": [
            "None\n"
          ],
          "name": "stdout"
        }
      ]
    },
    {
      "cell_type": "markdown",
      "metadata": {
        "id": "ZUsKl1zC7fAR"
      },
      "source": [
        "##**비교연산자**\n",
        "- 프로그래밍에서 비교를 할경우 사용한다.\n",
        "- .> ,<(작다,크다)\n",
        "- <=,>= (작거나 같다, 크거나 같다)\n",
        "- == (같다)\n",
        "- =! (같지 않다)\n",
        "= 비교연산자 결과는 Bool( 참 , 거짓 )\n"
      ]
    },
    {
      "cell_type": "code",
      "metadata": {
        "colab": {
          "base_uri": "https://localhost:8080/"
        },
        "id": "2bUaIoQj7lrZ",
        "outputId": "d45198fa-c821-4fda-b397-826db73fe39b"
      },
      "source": [
        "a= 5\n",
        "b= 4\n",
        "print(a>b)\n",
        "print(b>a)\n",
        "print(a >= b)\n",
        "print(a==b)\n",
        "print(a!=b)\n"
      ],
      "execution_count": 20,
      "outputs": [
        {
          "output_type": "stream",
          "text": [
            "True\n",
            "False\n",
            "True\n",
            "False\n",
            "True\n"
          ],
          "name": "stdout"
        }
      ]
    },
    {
      "cell_type": "markdown",
      "metadata": {
        "id": "I7FThiPSBV2-"
      },
      "source": [
        "## **기본연산자**\n"
      ]
    },
    {
      "cell_type": "code",
      "metadata": {
        "colab": {
          "base_uri": "https://localhost:8080/"
        },
        "id": "be15fLH4Bu10",
        "outputId": "6ae96b4a-0236-40f3-d28d-2fab968fd2da"
      },
      "source": [
        "print(a+b)\n",
        "print(a-b)\n",
        "print(a*b)\n",
        "print(a/b)\n",
        "print(a%b)\n",
        "print(a**b)"
      ],
      "execution_count": 21,
      "outputs": [
        {
          "output_type": "stream",
          "text": [
            "9\n",
            "1\n",
            "20\n",
            "1.25\n",
            "1\n",
            "625\n"
          ],
          "name": "stdout"
        }
      ]
    },
    {
      "cell_type": "markdown",
      "metadata": {
        "id": "bpuopQPrCJb9"
      },
      "source": [
        "##**연산자 우선순위\n",
        "- 기본적으로 수학의 연산자와 동일\n",
        "- 강제로 연산을 먼저하기 위해서는 ()사용"
      ]
    },
    {
      "cell_type": "code",
      "metadata": {
        "id": "r3mtRiW3CNAC"
      },
      "source": [
        "print(a+b*@)\n",
        "print((a+b)*2)\n"
      ],
      "execution_count": null,
      "outputs": []
    }
  ]
}