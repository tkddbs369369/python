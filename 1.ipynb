{
  "nbformat": 4,
  "nbformat_minor": 0,
  "metadata": {
    "colab": {
      "name": "1.ipynb",
      "provenance": [],
      "collapsed_sections": [],
      "authorship_tag": "ABX9TyOYflNj44qMYdmqz5N9dNdB",
      "include_colab_link": true
    },
    "kernelspec": {
      "name": "python3",
      "display_name": "Python 3"
    },
    "language_info": {
      "name": "python"
    }
  },
  "cells": [
    {
      "cell_type": "markdown",
      "metadata": {
        "id": "view-in-github",
        "colab_type": "text"
      },
      "source": [
        "<a href=\"https://colab.research.google.com/github/tkddbs369369/python/blob/main/1.ipynb\" target=\"_parent\"><img src=\"https://colab.research.google.com/assets/colab-badge.svg\" alt=\"Open In Colab\"/></a>"
      ]
    },
    {
      "cell_type": "markdown",
      "metadata": {
        "id": "2u7lJJdtaf8M"
      },
      "source": [
        ""
      ]
    },
    {
      "cell_type": "markdown",
      "metadata": {
        "id": "kvYQnQ-vagBc"
      },
      "source": [
        "## **학습목표**\n",
        "1. python에서 변수의 의미 이해 \n",
        "2. 기본 데이터 타입 선언\n",
        "  - int, float, str, bool\n"
      ]
    },
    {
      "cell_type": "markdown",
      "metadata": {
        "id": "Y-5ynnSsb0_M"
      },
      "source": [
        "## = 대입 연산자\n",
        "- 오른쪽 수식이나 값을 계산한 후 왼쪽에 명시된 변수에 해당 값을 대입\n",
        "- 변수는 해당 값을 가짐\n"
      ]
    },
    {
      "cell_type": "code",
      "metadata": {
        "id": "m5fK-mnFcCxX"
      },
      "source": [
        "a = 10 #int\n",
        "b = 11.4 #float"
      ],
      "execution_count": null,
      "outputs": []
    },
    {
      "cell_type": "markdown",
      "metadata": {
        "id": "ZCwzyyAgcr5k"
      },
      "source": [
        "## **주석**\n",
        "\n",
        "- 코드에서 #으로 시작하는 뒷부분\n",
        "- 파이썬에서는 소스코드를 실행할 떄 #을 만나면 무시\n",
        "- 주석 용도로 사용\n",
        " "
      ]
    },
    {
      "cell_type": "code",
      "metadata": {
        "id": "asBRa9sHc8ss"
      },
      "source": [
        "#this line is very important\n",
        "#so don't delete it\n",
        "math = 75"
      ],
      "execution_count": null,
      "outputs": []
    },
    {
      "cell_type": "markdown",
      "metadata": {
        "id": "fdAGVeCqd7R0"
      },
      "source": [
        "## **변수값 확인법**\n",
        "- print()사용\n",
        "- 코드의 마지막에 변수 값을 위치시킨 후 실행\n"
      ]
    },
    {
      "cell_type": "code",
      "metadata": {
        "colab": {
          "base_uri": "https://localhost:8080/"
        },
        "id": "bQq3p98DeZHc",
        "outputId": "89fbbc26-607c-4646-c16d-ecdee6fcd7ea"
      },
      "source": [
        "a = 10\n",
        "b = 11.4\n",
        "print(a,b)\n",
        "print(a)\n",
        "a,b"
      ],
      "execution_count": null,
      "outputs": [
        {
          "output_type": "stream",
          "text": [
            "10 11.4\n",
            "10\n"
          ],
          "name": "stdout"
        },
        {
          "output_type": "execute_result",
          "data": {
            "text/plain": [
              "(10, 11.4)"
            ]
          },
          "metadata": {},
          "execution_count": 13
        }
      ]
    },
    {
      "cell_type": "markdown",
      "metadata": {
        "id": "ybuNP-nNgVsM"
      },
      "source": [
        "### ***print 함수***\n",
        "- 함수란 특정 기능을 반복적으로 호출하여 사용가능한 코드 블럭\n",
        "- ,로 여러 변수를 한줄에 출력\n",
        "- 기본적으로 한칸 띄어쓰기 후 출력\n",
        "\n"
      ]
    },
    {
      "cell_type": "code",
      "metadata": {
        "id": "xGdCNL5IgmkU"
      },
      "source": [
        "print(a,b)\n",
        "print(a , 10, 200, b)\n",
        "print('민재 맛있니')"
      ],
      "execution_count": null,
      "outputs": []
    },
    {
      "cell_type": "markdown",
      "metadata": {
        "id": "nUqjy0k3hW-i"
      },
      "source": [
        "** print 함수 설정**\n",
        "- sep(구분자):각 변수 사이에서 구분해주는 역할\n",
        "- end:마지막에 출력할 문자열 "
      ]
    },
    {
      "cell_type": "code",
      "metadata": {
        "colab": {
          "base_uri": "https://localhost:8080/"
        },
        "id": "6rUi6sPxhefj",
        "outputId": "f8f19b26-029e-49ac-ad03-b34acda834fd"
      },
      "source": [
        "print(a,b,200,'대충이름',sep='#',end='!!')"
      ],
      "execution_count": null,
      "outputs": [
        {
          "output_type": "stream",
          "text": [
            "10#11.4#200#대충이름!!"
          ],
          "name": "stdout"
        }
      ]
    },
    {
      "cell_type": "code",
      "metadata": {
        "id": "LLwH5RuxhudX"
      },
      "source": [
        ""
      ],
      "execution_count": null,
      "outputs": []
    },
    {
      "cell_type": "code",
      "metadata": {
        "id": "ghI7lEjnoM0l"
      },
      "source": [
        ""
      ],
      "execution_count": null,
      "outputs": []
    }
  ]
}