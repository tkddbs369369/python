{
  "nbformat": 4,
  "nbformat_minor": 0,
  "metadata": {
    "colab": {
      "name": "6_데이터 타입(list,tuple).ipynb",
      "provenance": [],
      "authorship_tag": "ABX9TyPMg2/0yEvy9utOCQYtVMsh",
      "include_colab_link": true
    },
    "kernelspec": {
      "name": "python3",
      "display_name": "Python 3"
    },
    "language_info": {
      "name": "python"
    }
  },
  "cells": [
    {
      "cell_type": "markdown",
      "metadata": {
        "id": "view-in-github",
        "colab_type": "text"
      },
      "source": [
        "<a href=\"https://colab.research.google.com/github/tkddbs369369/python/blob/main/6_%EB%8D%B0%EC%9D%B4%ED%84%B0_%ED%83%80%EC%9E%85(list%2Ctuple).ipynb\" target=\"_parent\"><img src=\"https://colab.research.google.com/assets/colab-badge.svg\" alt=\"Open In Colab\"/></a>"
      ]
    },
    {
      "cell_type": "markdown",
      "metadata": {
        "id": "GuJBPwv09Bto"
      },
      "source": [
        "### 학습목표\n",
        "\n",
        "- 여러개의 값을 담을수있는 데이터 구조\n",
        "- "
      ]
    },
    {
      "cell_type": "markdown",
      "metadata": {
        "id": "wJ8MxuK69TKA"
      },
      "source": [
        "## **list와 tuple**\n",
        "- list : mutable (변경가능)\n",
        "- tuple : immutable (불변)"
      ]
    },
    {
      "cell_type": "code",
      "metadata": {
        "colab": {
          "base_uri": "https://localhost:8080/"
        },
        "id": "joPoU1su9gOS",
        "outputId": "1660a7f4-823a-4c4d-af16-ed96dd6d2a3f"
      },
      "source": [
        "a = ['컴네', 'A', '1학년', 10,20,[2,3]] #값을 담아서 생성\n",
        "print(a)"
      ],
      "execution_count": null,
      "outputs": [
        {
          "output_type": "stream",
          "name": "stdout",
          "text": [
            "['컴네', 'A', '1학년', 10, 20, [2, 3]]\n"
          ]
        }
      ]
    },
    {
      "cell_type": "code",
      "metadata": {
        "colab": {
          "base_uri": "https://localhost:8080/"
        },
        "id": "dSUNdaxz-J2K",
        "outputId": "20d3fb77-7241-4afa-fa67-9ce6bc1d974c"
      },
      "source": [
        "a = 'hello comnet A'\n",
        "b = list(a) #list()함수로 리스트 생성  \n",
        "print(b)    #다른 단일 문자열을 리스트로 변환할 떄 사용 가능\n",
        "c = list()   \n",
        "c.append(a)\n",
        "print(c)\n",
        "b = a.split('o') #매개변수를 기준으로 쪼개짐 but 없으면 공백을 기준\n"
      ],
      "execution_count": null,
      "outputs": [
        {
          "output_type": "stream",
          "name": "stdout",
          "text": [
            "['h', 'e', 'l', 'l', 'o', ' ', 'c', 'o', 'm', 'n', 'e', 't', ' ', 'A']\n",
            "['hello comnet A']\n"
          ]
        },
        {
          "output_type": "execute_result",
          "data": {
            "text/plain": [
              "['hell', ' c', 'mnet A']"
            ]
          },
          "metadata": {},
          "execution_count": 17
        }
      ]
    },
    {
      "cell_type": "markdown",
      "metadata": {
        "id": "DGrYFnPP_2Q3"
      },
      "source": [
        "### **리스트 indexing**\n",
        "\n",
        "- []연산자를 이용해 항목을 가져온다.\n",
        "- [n] : n번쨰 원소를 반환한다.\n",
        "- i가 음수면, 마지막 원소에서 -1로 하여 가져온다."
      ]
    },
    {
      "cell_type": "code",
      "metadata": {
        "colab": {
          "base_uri": "https://localhost:8080/"
        },
        "id": "Tw1JisLmAexK",
        "outputId": "626140c3-6db5-4074-f951-a419a6c28cff"
      },
      "source": [
        "a = list(range(1,11)) #[1, 2, 3, 4, 5, 6, 7, 8, 9, 10]\n",
        "print(a[0], a[2])\n",
        "print(a[-1], a[-2], a[-3])\n",
        "print(a[10]) #오류"
      ],
      "execution_count": null,
      "outputs": [
        {
          "output_type": "stream",
          "name": "stdout",
          "text": [
            "1 3\n",
            "10 9 8\n",
            "10\n"
          ]
        }
      ]
    },
    {
      "cell_type": "markdown",
      "metadata": {
        "id": "iZwCmgDKBSVQ"
      },
      "source": [
        ""
      ]
    },
    {
      "cell_type": "code",
      "metadata": {
        "colab": {
          "base_uri": "https://localhost:8080/"
        },
        "id": "6uSidqsDBXxf",
        "outputId": "b9c58e38-a9ba-4ceb-bd9b-bffd11ce3a0e"
      },
      "source": [
        "#인덱스 접근 후 업데이트\n",
        "a = 'hello comnet A'\n",
        "b = a.replace('A', \"B\")\n",
        "c = 'j'+a[1:]\n",
        "print(b)\n",
        "print(c)\n",
        "\n",
        "a = list(range(1,11)) #[1, 2, 3, 4, 5, 6, 7, 8, 9, 10]\n",
        "a[0] = 100\n",
        "a[-1] = 90\n",
        "\n",
        "print(a)"
      ],
      "execution_count": null,
      "outputs": [
        {
          "output_type": "stream",
          "name": "stdout",
          "text": [
            "hello comnet B\n",
            "jello comnet A\n",
            "[100, 2, 3, 4, 5, 6, 7, 8, 9, 90]\n"
          ]
        }
      ]
    },
    {
      "cell_type": "markdown",
      "metadata": {
        "id": "7Sujj8f4N9IZ"
      },
      "source": [
        "### **리스트 슬라이싱**\n",
        "- 슬라이싱 결과 리스트\n",
        "- 문자열과 동일하게 동작\n"
      ]
    },
    {
      "cell_type": "code",
      "metadata": {
        "colab": {
          "base_uri": "https://localhost:8080/"
        },
        "id": "UkB4eWN0OI2o",
        "outputId": "27ff5760-cfc5-4c8b-8de6-dc5f420d5b28"
      },
      "source": [
        "a = list(range(1,11)) #[1, 2, 3, 4, 5, 6, 7, 8, 9, 10]\n",
        "\n",
        "print(a[3:7])\n",
        "print(a[:7])\n",
        "print(a[3:])\n",
        "print(a[:])\n",
        "print(a[1:7:2])"
      ],
      "execution_count": null,
      "outputs": [
        {
          "output_type": "stream",
          "name": "stdout",
          "text": [
            "[4, 5, 6, 7]\n",
            "[1, 2, 3, 4, 5, 6, 7]\n",
            "[4, 5, 6, 7, 8, 9, 10]\n",
            "[1, 2, 3, 4, 5, 6, 7, 8, 9, 10]\n",
            "[2, 4, 6]\n"
          ]
        }
      ]
    },
    {
      "cell_type": "markdown",
      "metadata": {
        "id": "5DzvssUDPBAY"
      },
      "source": [
        ""
      ]
    },
    {
      "cell_type": "markdown",
      "metadata": {
        "id": "yuivQxvCPBqA"
      },
      "source": [
        "###**리스트 멤버 함수**\n",
        "- 생선된 리스트에 동작하는 함수\n",
        "- append() : 덧부치다\n",
        "- extend() : 연장 (+=)\n",
        "- insert() : 원하는 위치에 추가가능\n",
        "\n",
        "- remove() : 값으로 항목을 삭제\n",
        "- pop() : index로 지우고자 하는 아이템을 **반환 후** 삭제\n",
        "- index() : 찾고자 하는 값을 인덱스를 반환"
      ]
    },
    {
      "cell_type": "code",
      "metadata": {
        "colab": {
          "base_uri": "https://localhost:8080/"
        },
        "id": "fv-cZz9uPaKW",
        "outputId": "ec1c2567-fba3-4d41-c6f3-74f9f4f3da0c"
      },
      "source": [
        "a= [1, 2, 3, 4, 5, 6, 7, 8, 9, 10]\n",
        "a.append(10)\n",
        "print(a)\n",
        "\n"
      ],
      "execution_count": null,
      "outputs": [
        {
          "output_type": "stream",
          "name": "stdout",
          "text": [
            "[1, 2, 3, 4, 5, 6, 7, 8, 9, 10, 10]\n"
          ]
        }
      ]
    },
    {
      "cell_type": "code",
      "metadata": {
        "colab": {
          "base_uri": "https://localhost:8080/"
        },
        "id": "G2TKtDgYQUmI",
        "outputId": "90700071-8946-4c0c-f2b5-5ab098d22e81"
      },
      "source": [
        "b = [11,12,14,15,16]\n",
        "a.extend(b) # +=\n",
        "print(a)"
      ],
      "execution_count": null,
      "outputs": [
        {
          "output_type": "stream",
          "name": "stdout",
          "text": [
            "[1, 2, 3, 4, 5, 6, 7, 8, 9, 10, 10, '213', '123', 11, 12, 14, 15, 16, 11, 12, 14, 15, 16]\n"
          ]
        }
      ]
    },
    {
      "cell_type": "code",
      "metadata": {
        "colab": {
          "base_uri": "https://localhost:8080/"
        },
        "id": "Ev4PCHhSQbCx",
        "outputId": "36e462e6-991a-4372-f341-eb121b7935b7"
      },
      "source": [
        "a = list(range(1,17))\n",
        "a.insert(5,20)\n",
        "print(a)"
      ],
      "execution_count": null,
      "outputs": [
        {
          "output_type": "stream",
          "name": "stdout",
          "text": [
            "[1, 2, 3, 4, 5, 20, 6, 7, 8, 9, 10, 11, 12, 13, 14, 15, 16]\n"
          ]
        }
      ]
    },
    {
      "cell_type": "code",
      "metadata": {
        "colab": {
          "base_uri": "https://localhost:8080/"
        },
        "id": "DqtepSPdQ6lX",
        "outputId": "f9274c57-99a2-4205-da24-8faa8e3f0470"
      },
      "source": [
        "a = [1,2,3,4,5,20,20,10,11,12,13,14,15]\n",
        "a.remove(20)\n",
        "print(a)"
      ],
      "execution_count": null,
      "outputs": [
        {
          "output_type": "stream",
          "name": "stdout",
          "text": [
            "[1, 2, 3, 4, 5, 20, 10, 11, 12, 13, 14, 15]\n"
          ]
        }
      ]
    },
    {
      "cell_type": "code",
      "metadata": {
        "colab": {
          "base_uri": "https://localhost:8080/"
        },
        "id": "j83KPkvyRdVX",
        "outputId": "cd993f12-3b83-44d7-f032-864e084504d4"
      },
      "source": [
        "a = [1,2,3,4,10,11,13,12,14,15]\n",
        "\n",
        "\n",
        "\n",
        "c = a.pop(4)\n",
        "\n",
        "print(c)"
      ],
      "execution_count": null,
      "outputs": [
        {
          "output_type": "stream",
          "name": "stdout",
          "text": [
            "10\n"
          ]
        }
      ]
    },
    {
      "cell_type": "code",
      "metadata": {
        "colab": {
          "base_uri": "https://localhost:8080/"
        },
        "id": "citrT2qVW-B2",
        "outputId": "11d91e01-70f0-486d-edba-b2f2d1d00748"
      },
      "source": [
        "a = [2, 6, 7, 9, 10]\n",
        "a.index(2)"
      ],
      "execution_count": null,
      "outputs": [
        {
          "output_type": "execute_result",
          "data": {
            "text/plain": [
              "0"
            ]
          },
          "metadata": {},
          "execution_count": 73
        }
      ]
    },
    {
      "cell_type": "markdown",
      "metadata": {
        "id": "6cVvhxJ3XZDF"
      },
      "source": [
        "### **in 키워드**\n",
        "- 리스트 내에 해당 값이 존재하는지\n",
        "- True or False로 반환\n",
        "- 값 in [list]\n"
      ]
    },
    {
      "cell_type": "code",
      "metadata": {
        "colab": {
          "base_uri": "https://localhost:8080/"
        },
        "id": "O929_jdpXmZo",
        "outputId": "b823cb63-1ea8-44ff-ebe3-c62c293aca56"
      },
      "source": [
        "a = [1,2,3,4,5,6,7]\n",
        "b = 5\n",
        "c = 10\n",
        "\n",
        "print(b in a)\n",
        "c in a"
      ],
      "execution_count": null,
      "outputs": [
        {
          "output_type": "stream",
          "name": "stdout",
          "text": [
            "True\n"
          ]
        },
        {
          "output_type": "execute_result",
          "data": {
            "text/plain": [
              "False"
            ]
          },
          "metadata": {},
          "execution_count": 76
        }
      ]
    },
    {
      "cell_type": "markdown",
      "metadata": {
        "id": "ELb4DrRVZJCG"
      },
      "source": [
        "**list 정렬**\n",
        "- sort() : list 자체를 외부적으로 정렬\n",
        "- sorted() : 정렬된 리스트의 복사본을 반환"
      ]
    },
    {
      "cell_type": "code",
      "metadata": {
        "colab": {
          "base_uri": "https://localhost:8080/"
        },
        "id": "QD0yl_EDZZdH",
        "outputId": "8d6fc735-00ef-4bd5-e2c8-db2db2da65c4"
      },
      "source": [
        "a = [4,3,5,8,6,9,8,99,9,8,7,12,1,3,2,87321645,6,565,4874,8454,31456,456684876,486132654,87978456,4567897,45]\n",
        "a.sort()\n",
        "print(a)\n",
        "\n",
        "a = [4,3,5,8,6,9,8,99,9,8,7,12,1,3,2,87321645,6,565,4874,8454,31456,456684876,486132654,87978456,4567897,45]\n",
        "b = sorted(a)\n",
        "print(a,b ,sep = '\\n')"
      ],
      "execution_count": 92,
      "outputs": [
        {
          "output_type": "stream",
          "name": "stdout",
          "text": [
            "[1, 2, 3, 3, 4, 5, 6, 6, 7, 8, 8, 8, 9, 9, 12, 45, 99, 565, 4874, 8454, 31456, 4567897, 87321645, 87978456, 456684876, 486132654]\n",
            "[4, 3, 5, 8, 6, 9, 8, 99, 9, 8, 7, 12, 1, 3, 2, 87321645, 6, 565, 4874, 8454, 31456, 456684876, 486132654, 87978456, 4567897, 45]\n",
            "[1, 2, 3, 3, 4, 5, 6, 6, 7, 8, 8, 8, 9, 9, 12, 45, 99, 565, 4874, 8454, 31456, 4567897, 87321645, 87978456, 456684876, 486132654]\n"
          ]
        }
      ]
    },
    {
      "cell_type": "code",
      "metadata": {
        "colab": {
          "base_uri": "https://localhost:8080/"
        },
        "id": "j5uK4QoqaQ0_",
        "outputId": "edfa68cf-2dae-47cc-95c3-03629adbbad0"
      },
      "source": [
        "a.sort(reverse=True)\n",
        "print(a)"
      ],
      "execution_count": 93,
      "outputs": [
        {
          "output_type": "stream",
          "name": "stdout",
          "text": [
            "[486132654, 456684876, 87978456, 87321645, 4567897, 31456, 8454, 4874, 565, 99, 45, 12, 9, 9, 8, 8, 8, 7, 6, 6, 5, 4, 3, 3, 2, 1]\n"
          ]
        }
      ]
    },
    {
      "cell_type": "markdown",
      "metadata": {
        "id": "9cFGO153avql"
      },
      "source": [
        "### **튜블(tuple)**\n",
        "\n",
        "- 리스트와 같이 여러개의 값을 갖는 데이터 컬렉션 타임\n",
        "- 생성된 후 변경이 불가능"
      ]
    },
    {
      "cell_type": "code",
      "metadata": {
        "colab": {
          "base_uri": "https://localhost:8080/"
        },
        "id": "rAfVqU9SbNbL",
        "outputId": "6a01e159-1da4-48cd-edec-f19fd4eb8a43"
      },
      "source": [
        "a = [1,2,3]\n",
        "b = (1,2,3)\n",
        "\n",
        "print(type(a))\n",
        "print(type(b))\n",
        "\n",
        "a[0] = 100\n",
        "print(a)\n",
        "\n",
        "\n",
        "#b[0] = 100 #오류\n",
        "print(b) #오류"
      ],
      "execution_count": 90,
      "outputs": [
        {
          "output_type": "stream",
          "name": "stdout",
          "text": [
            "<class 'list'>\n",
            "<class 'tuple'>\n",
            "[100, 2, 3]\n",
            "(1, 2, 3)\n"
          ]
        }
      ]
    },
    {
      "cell_type": "code",
      "metadata": {
        "colab": {
          "base_uri": "https://localhost:8080/"
        },
        "id": "UE0EEVoXbnkl",
        "outputId": "b40816ec-e858-464f-9f4a-e84d5ce5b92d"
      },
      "source": [
        "a,b,c,d = 10,20,30,40\n",
        "print(a,b,c,d)"
      ],
      "execution_count": 94,
      "outputs": [
        {
          "output_type": "stream",
          "name": "stdout",
          "text": [
            "10 20 30 40\n"
          ]
        }
      ]
    },
    {
      "cell_type": "code",
      "metadata": {
        "colab": {
          "base_uri": "https://localhost:8080/"
        },
        "id": "wOFGFP1pb6rt",
        "outputId": "5defcae7-8fde-4de6-f999-c0efd21bc173"
      },
      "source": [
        "a = 5\n",
        "b = 4\n",
        "\n",
        "#문제 b = 5 , a = 4가 a,b의 값을 해보세요\n",
        "\n",
        "\n",
        "# 기초방법\n",
        "temp = a\n",
        "a = b\n",
        "b = temp\n",
        "print(a,b)\n",
        "\n",
        "#심화 방법    <<<<<<<<<<<<<<<<<< 신! 기! 하! 다!\n",
        "a,b = b,a\n",
        "\n",
        "print(a,b)"
      ],
      "execution_count": 98,
      "outputs": [
        {
          "output_type": "stream",
          "name": "stdout",
          "text": [
            "4 5\n",
            "5 4\n"
          ]
        }
      ]
    }
  ]
}