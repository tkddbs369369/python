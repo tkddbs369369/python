{
  "nbformat": 4,
  "nbformat_minor": 0,
  "metadata": {
    "colab": {
      "name": "211019중간고사 review.ipynb",
      "provenance": [],
      "collapsed_sections": [],
      "authorship_tag": "ABX9TyMIQbJeHgusdlJetTxpcD2q",
      "include_colab_link": true
    },
    "kernelspec": {
      "name": "python3",
      "display_name": "Python 3"
    },
    "language_info": {
      "name": "python"
    }
  },
  "cells": [
    {
      "cell_type": "markdown",
      "metadata": {
        "id": "view-in-github",
        "colab_type": "text"
      },
      "source": [
        "<a href=\"https://colab.research.google.com/github/tkddbs369369/python/blob/main/211019%EC%A4%91%EA%B0%84%EA%B3%A0%EC%82%AC_review.ipynb\" target=\"_parent\"><img src=\"https://colab.research.google.com/assets/colab-badge.svg\" alt=\"Open In Colab\"/></a>"
      ]
    },
    {
      "cell_type": "code",
      "metadata": {
        "id": "d6Lqjazn0kZS"
      },
      "source": [
        "#1. 파이썬 변수로 사용할 수 없는 것은\n",
        "_num = 1\n",
        "num = 2\n",
        "num1 = 3\n",
        "#2num = 4\n",
        "#변수를 선언할떄 맨 앞에 숫자는 올 수 없다!\n",
        "n_um = 5"
      ],
      "execution_count": 1,
      "outputs": []
    },
    {
      "cell_type": "code",
      "metadata": {
        "colab": {
          "base_uri": "https://localhost:8080/"
        },
        "id": "U7iqOhuY3WlN",
        "outputId": "e4c6dce3-d453-4adb-9cee-352ebd024aaa"
      },
      "source": [
        "#2. 각 변수에 저장된 최종 값은?\n",
        "sum = 0\n",
        "n1 = 10\n",
        "n1 = n1 + 10\n",
        "n2 = 20\n",
        "sum = n1 + n2\n",
        "\n",
        "n1, n2, sum"
      ],
      "execution_count": 2,
      "outputs": [
        {
          "output_type": "execute_result",
          "data": {
            "text/plain": [
              "(20, 20, 40)"
            ]
          },
          "metadata": {},
          "execution_count": 2
        }
      ]
    },
    {
      "cell_type": "code",
      "metadata": {
        "colab": {
          "base_uri": "https://localhost:8080/"
        },
        "id": "xsGQ5H-y31AG",
        "outputId": "8968462e-7718-4fa0-84f7-08caf8087c80"
      },
      "source": [
        "#3.  적절한 연산자 찾기\n",
        "\n",
        "print(17 // 4)\n",
        "print(17 / 4)\n",
        "print(17 % 4)"
      ],
      "execution_count": 3,
      "outputs": [
        {
          "output_type": "stream",
          "name": "stdout",
          "text": [
            "4\n",
            "4.25\n",
            "1\n"
          ]
        }
      ]
    },
    {
      "cell_type": "code",
      "metadata": {
        "colab": {
          "base_uri": "https://localhost:8080/"
        },
        "id": "aVpahQDo_Jw8",
        "outputId": "89658d5b-f1ef-498d-ef7f-4e2909114aa5"
      },
      "source": [
        "#4. 다음 데이터 타입\n",
        "\n",
        "age = 17\n",
        "st = '나이'\n",
        "tu = (17,'나이')\n",
        "type(age) , type(st) , type(tu) , type(type(st))"
      ],
      "execution_count": 4,
      "outputs": [
        {
          "output_type": "execute_result",
          "data": {
            "text/plain": [
              "(int, str, tuple, type)"
            ]
          },
          "metadata": {},
          "execution_count": 4
        }
      ]
    },
    {
      "cell_type": "code",
      "metadata": {
        "colab": {
          "base_uri": "https://localhost:8080/"
        },
        "id": "XNcq2Yek_8jU",
        "outputId": "cb6890db-9834-4f8a-9e3e-3dde229e1c1b"
      },
      "source": [
        "#5. 다음 인덱스\n",
        "\n",
        "s = 'Hello Hanyang!'\n",
        "\n",
        "s[5],s[-5]"
      ],
      "execution_count": 5,
      "outputs": [
        {
          "output_type": "execute_result",
          "data": {
            "text/plain": [
              "(' ', 'y')"
            ]
          },
          "metadata": {},
          "execution_count": 5
        }
      ]
    },
    {
      "cell_type": "code",
      "metadata": {
        "colab": {
          "base_uri": "https://localhost:8080/"
        },
        "id": "_JXJl4oOAjIL",
        "outputId": "bca38eaa-bb49-4cac-fd91-a3f47e973759"
      },
      "source": [
        "#6. upper\n",
        "\n",
        "s = 'Hello Hanyang!'\n",
        "print(s)\n",
        "s = s.upper()\n",
        "print(s[:8])"
      ],
      "execution_count": 6,
      "outputs": [
        {
          "output_type": "stream",
          "name": "stdout",
          "text": [
            "Hello Hanyang!\n",
            "HELLO HA\n"
          ]
        }
      ]
    },
    {
      "cell_type": "code",
      "metadata": {
        "id": "IEggGbX7BKQd"
      },
      "source": [
        "#7. 여러 대이터를 다루는 파이썬의 자료형\n",
        "# 리스트, 튜플, 딕셔너리, 셋"
      ],
      "execution_count": 7,
      "outputs": []
    },
    {
      "cell_type": "code",
      "metadata": {
        "colab": {
          "base_uri": "https://localhost:8080/"
        },
        "id": "wKJKVPutBnGi",
        "outputId": "20b60d78-8322-40ac-bf4d-913faf7f0da5"
      },
      "source": [
        "#8. \n",
        "\n",
        "a = ['a',1,'python',(1,2),\"2\",[1,2] ]\n",
        "\n",
        "print(a[3])\n",
        "print(1 in a, 2 in a)"
      ],
      "execution_count": 8,
      "outputs": [
        {
          "output_type": "stream",
          "name": "stdout",
          "text": [
            "(1, 2)\n",
            "True False\n"
          ]
        }
      ]
    },
    {
      "cell_type": "code",
      "metadata": {
        "colab": {
          "base_uri": "https://localhost:8080/"
        },
        "id": "xqL0ffwaCDMT",
        "outputId": "f7245c24-df89-489c-fa12-fda67777b033"
      },
      "source": [
        "# 10. \n",
        "nums = list(range(4))\n",
        "print(nums)\n",
        "nums.insert(3,100)\n",
        "nums"
      ],
      "execution_count": 9,
      "outputs": [
        {
          "output_type": "stream",
          "name": "stdout",
          "text": [
            "[0, 1, 2, 3]\n"
          ]
        },
        {
          "output_type": "execute_result",
          "data": {
            "text/plain": [
              "[0, 1, 2, 100, 3]"
            ]
          },
          "metadata": {},
          "execution_count": 9
        }
      ]
    },
    {
      "cell_type": "code",
      "metadata": {
        "colab": {
          "base_uri": "https://localhost:8080/"
        },
        "id": "q-rQvOFwDBx8",
        "outputId": "b0c90cf8-9ea2-42fd-8814-a7f2f7ff3ba8"
      },
      "source": [
        "#11.\n",
        "\n",
        "a = 100\n",
        "b = 200\n",
        "\n",
        "a,b = b,a\n",
        "\n",
        "a,b"
      ],
      "execution_count": 10,
      "outputs": [
        {
          "output_type": "execute_result",
          "data": {
            "text/plain": [
              "(200, 100)"
            ]
          },
          "metadata": {},
          "execution_count": 10
        }
      ]
    },
    {
      "cell_type": "code",
      "metadata": {
        "colab": {
          "base_uri": "https://localhost:8080/"
        },
        "id": "Xoun0dfxD0JT",
        "outputId": "2c60b9d8-669a-4588-df19-e7857dc0d361"
      },
      "source": [
        "#12 . dictionary\n",
        "a = {'han':1, 1:2, \"1\":3}\n",
        "print(a)\n",
        "a[1] = 'yang'\n",
        "print(a)"
      ],
      "execution_count": 11,
      "outputs": [
        {
          "output_type": "stream",
          "name": "stdout",
          "text": [
            "{'han': 1, 1: 2, '1': 3}\n",
            "{'han': 1, 1: 'yang', '1': 3}\n"
          ]
        }
      ]
    },
    {
      "cell_type": "code",
      "metadata": {
        "colab": {
          "base_uri": "https://localhost:8080/"
        },
        "id": "JdbGdxRgE-Gz",
        "outputId": "c3b98e96-7c6b-4af6-ff26-dfb21cfc0df6"
      },
      "source": [
        "# 13. set\n",
        "b = set('Hello')\n",
        "\n",
        "print(b)"
      ],
      "execution_count": 12,
      "outputs": [
        {
          "output_type": "stream",
          "name": "stdout",
          "text": [
            "{'e', 'l', 'o', 'H'}\n"
          ]
        }
      ]
    },
    {
      "cell_type": "code",
      "metadata": {
        "colab": {
          "base_uri": "https://localhost:8080/"
        },
        "id": "7dNA8FIwLurb",
        "outputId": "53b102f9-938e-4d25-97b5-b50f6f229382"
      },
      "source": [
        "# 14~15\n",
        "room = [[0,0,1,0,9],\n",
        "        [1,0,1,0,1],\n",
        "        [0,1,1,1,9]]\n",
        "\n",
        "mouse = room[0][2]\n",
        "\n",
        "if mouse == 1:\n",
        "  print('cheese')\n",
        "elif mouse == 9:\n",
        "  print('trap')\n",
        "else:\n",
        "  print('nothing')"
      ],
      "execution_count": 13,
      "outputs": [
        {
          "output_type": "stream",
          "name": "stdout",
          "text": [
            "cheese\n"
          ]
        }
      ]
    },
    {
      "cell_type": "code",
      "metadata": {
        "colab": {
          "base_uri": "https://localhost:8080/"
        },
        "id": "y_kxlBbKNxTp",
        "outputId": "607aed19-5454-4121-c541-9a8025a577e5"
      },
      "source": [
        "# 16 ~ 17\n",
        "\n",
        "a_score = 0\n",
        "b_score = 0\n",
        "\n",
        "for i in range(3,9):\n",
        "  if i % 2 == 0 and i % 3 ==0:\n",
        "    continue\n",
        "  elif i % 2 == 0:\n",
        "    a_score += 1\n",
        "  elif i % 3 == 0:\n",
        "    b_score += 1\n",
        "\n",
        "\n",
        "print(a_score,b_score)"
      ],
      "execution_count": 14,
      "outputs": [
        {
          "output_type": "stream",
          "name": "stdout",
          "text": [
            "2 1\n"
          ]
        }
      ]
    },
    {
      "cell_type": "code",
      "metadata": {
        "colab": {
          "base_uri": "https://localhost:8080/"
        },
        "id": "NXIIzOlpPDtA",
        "outputId": "5b28dbae-85ff-4614-e9cd-8a44468849ed"
      },
      "source": [
        "# 18 ~ 20\n",
        "\n",
        "print(\"----------민재나라현식공주----------\")\n",
        "print(\"MENU\")\n",
        "print('매뉴번호 1.햄버거(300원) 2.피자(500원) 3.치킨(700원)')\n",
        "print(\"=\"*35)\n",
        "\n",
        "\n",
        "\n",
        "\n",
        "money = int(input('투입 금액 : '))\n",
        "menu = int(input('매뉴번호를 입력해주세용 : '))\n",
        "\n",
        "if menu == 1:\n",
        "  money -= 300\n",
        "elif menu == 2:\n",
        "  money -= 500\n",
        "elif menu == 3:\n",
        "  money -= 700\n",
        "\n",
        "if money < 0:\n",
        "  print(\"돈 더 주 셈\")\n",
        "else:\n",
        "  won10000 = money//10000\n",
        "  won5000 = (money%10000)//5000\n",
        "  won1000 = ((money%10000)%5000)//1000\n",
        "  won500 = (((money%10000)%5000)%1000)//500\n",
        "  won100 = ((((money%10000)%5000)%1000)%500)//100\n",
        "  print(\"거스름돈: 만원 {} 개\".format(won10000))\n",
        "  print(\"거스름돈: 오천원 {} 개\".format(won5000))\n",
        "  print(f\"거스름돈: 천원 {won1000}개\")\n",
        "  print(f\"거스름돈: 오백원 {won500}개\")\n",
        "  print(f\"거스름돈: 백원 {won100}개\")"
      ],
      "execution_count": 16,
      "outputs": [
        {
          "output_type": "stream",
          "name": "stdout",
          "text": [
            "----------민재나라현식공주----------\n",
            "MENU\n",
            "매뉴번호 1.햄버거(300원) 2.피자(500원) 3.치킨(700원)\n",
            "===================================\n",
            "투입 금액 : 15300\n",
            "매뉴번호를 입력해주세용 : 3\n",
            "거스름돈: 만원 1 개\n",
            "거스름돈: 오천원 0 개\n",
            "거스름돈: 천원 4개\n",
            "거스름돈: 오백원 1개\n",
            "거스름돈: 백원 1개\n"
          ]
        }
      ]
    }
  ]
}