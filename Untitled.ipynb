{
  "nbformat": 4,
  "nbformat_minor": 0,
  "metadata": {
    "colab": {
      "name": "Untitled.ipynb",
      "provenance": [],
      "include_colab_link": true
    },
    "kernelspec": {
      "name": "python3",
      "display_name": "Python 3"
    },
    "language_info": {
      "name": "python"
    }
  },
  "cells": [
    {
      "cell_type": "markdown",
      "metadata": {
        "id": "view-in-github",
        "colab_type": "text"
      },
      "source": [
        "<a href=\"https://colab.research.google.com/github/tkddbs369369/python/blob/main/Untitled.ipynb\" target=\"_parent\"><img src=\"https://colab.research.google.com/assets/colab-badge.svg\" alt=\"Open In Colab\"/></a>"
      ]
    },
    {
      "cell_type": "code",
      "metadata": {
        "colab": {
          "base_uri": "https://localhost:8080/"
        },
        "id": "OhkyK5SbC4sv",
        "outputId": "67d5eb38-08b4-4e2b-86f5-b96109c01d1c"
      },
      "source": [
        "a = abs(-10)\n",
        "a"
      ],
      "execution_count": null,
      "outputs": [
        {
          "output_type": "execute_result",
          "data": {
            "text/plain": [
              "10"
            ]
          },
          "metadata": {},
          "execution_count": 247
        }
      ]
    },
    {
      "cell_type": "code",
      "metadata": {
        "colab": {
          "base_uri": "https://localhost:8080/",
          "height": 36
        },
        "id": "cLnf2O5iEs9g",
        "outputId": "e66e4e8e-ef7a-40df-d151-5aab3dd5fef3"
      },
      "source": [
        "bin(10)"
      ],
      "execution_count": null,
      "outputs": [
        {
          "output_type": "execute_result",
          "data": {
            "application/vnd.google.colaboratory.intrinsic+json": {
              "type": "string"
            },
            "text/plain": [
              "'0b1010'"
            ]
          },
          "metadata": {},
          "execution_count": 248
        }
      ]
    },
    {
      "cell_type": "code",
      "metadata": {
        "colab": {
          "base_uri": "https://localhost:8080/",
          "height": 36
        },
        "id": "Rxu53SZ0Ey8X",
        "outputId": "184aafbf-6027-4138-8e61-067bce2ebc02"
      },
      "source": [
        "oct(10)"
      ],
      "execution_count": null,
      "outputs": [
        {
          "output_type": "execute_result",
          "data": {
            "application/vnd.google.colaboratory.intrinsic+json": {
              "type": "string"
            },
            "text/plain": [
              "'0o12'"
            ]
          },
          "metadata": {},
          "execution_count": 249
        }
      ]
    },
    {
      "cell_type": "code",
      "metadata": {
        "colab": {
          "base_uri": "https://localhost:8080/",
          "height": 36
        },
        "id": "aRGdzpUrEpsb",
        "outputId": "20efb6b7-73f2-4674-de34-66a928bdcfb9"
      },
      "source": [
        "hex(10)"
      ],
      "execution_count": null,
      "outputs": [
        {
          "output_type": "execute_result",
          "data": {
            "application/vnd.google.colaboratory.intrinsic+json": {
              "type": "string"
            },
            "text/plain": [
              "'0xa'"
            ]
          },
          "metadata": {},
          "execution_count": 250
        }
      ]
    },
    {
      "cell_type": "code",
      "metadata": {
        "id": "3bpl0ih7FCu0"
      },
      "source": [
        "numbers = [ 1, 5, -2, 0, 6 ]"
      ],
      "execution_count": null,
      "outputs": []
    },
    {
      "cell_type": "code",
      "metadata": {
        "colab": {
          "base_uri": "https://localhost:8080/"
        },
        "id": "vgSjXrnkFHCB",
        "outputId": "9a21a99e-2e4e-400c-a457-95b4f3556bce"
      },
      "source": [
        "print(numbers, \"중 가장 큰 값은 \", max(numbers))\n"
      ],
      "execution_count": null,
      "outputs": [
        {
          "output_type": "stream",
          "name": "stdout",
          "text": [
            "[1, 5, -2, 0, 6] 중 가장 큰 값은  6\n"
          ]
        }
      ]
    },
    {
      "cell_type": "code",
      "metadata": {
        "colab": {
          "base_uri": "https://localhost:8080/"
        },
        "id": "dzG872TjFPLt",
        "outputId": "a1fc291b-8fde-48b6-b5b2-188bc7a15e6e"
      },
      "source": [
        "print(numbers, \"중 가장 작은 값은 \", min(numbers))"
      ],
      "execution_count": null,
      "outputs": [
        {
          "output_type": "stream",
          "name": "stdout",
          "text": [
            "[1, 5, -2, 0, 6] 중 가장 작은 값은  -2\n"
          ]
        }
      ]
    },
    {
      "cell_type": "code",
      "metadata": {
        "colab": {
          "base_uri": "https://localhost:8080/"
        },
        "id": "VQI-OxCxFRr5",
        "outputId": "4e1e7237-19c9-4897-e52f-f95e0030ce60"
      },
      "source": [
        "print(numbers, \"중 합계는 \", sum(numbers))"
      ],
      "execution_count": null,
      "outputs": [
        {
          "output_type": "stream",
          "name": "stdout",
          "text": [
            "[1, 5, -2, 0, 6] 중 합계는  10\n"
          ]
        }
      ]
    },
    {
      "cell_type": "code",
      "metadata": {
        "colab": {
          "base_uri": "https://localhost:8080/"
        },
        "id": "YoFZSC_cFVHB",
        "outputId": "d52cdb64-4b4f-4058-9a8a-4c5183a90947"
      },
      "source": [
        "print(pow(2,10))"
      ],
      "execution_count": null,
      "outputs": [
        {
          "output_type": "stream",
          "name": "stdout",
          "text": [
            "1024\n"
          ]
        }
      ]
    },
    {
      "cell_type": "code",
      "metadata": {
        "id": "UUEBd43bFeAp"
      },
      "source": [
        "pi = 3.141592"
      ],
      "execution_count": null,
      "outputs": []
    },
    {
      "cell_type": "code",
      "metadata": {
        "colab": {
          "base_uri": "https://localhost:8080/"
        },
        "id": "JqunNEm9Fk2Y",
        "outputId": "a9035ac1-4161-4fca-bc79-8c0afa6876b3"
      },
      "source": [
        "round(pi,2)"
      ],
      "execution_count": null,
      "outputs": [
        {
          "output_type": "execute_result",
          "data": {
            "text/plain": [
              "3.14"
            ]
          },
          "metadata": {},
          "execution_count": 257
        }
      ]
    },
    {
      "cell_type": "code",
      "metadata": {
        "colab": {
          "base_uri": "https://localhost:8080/"
        },
        "id": "xdRZ95QCFpg_",
        "outputId": "ec449aea-1d5e-4a3e-ebc5-0024b9a73bea"
      },
      "source": [
        "round(pi)"
      ],
      "execution_count": null,
      "outputs": [
        {
          "output_type": "execute_result",
          "data": {
            "text/plain": [
              "3"
            ]
          },
          "metadata": {},
          "execution_count": 258
        }
      ]
    },
    {
      "cell_type": "code",
      "metadata": {
        "colab": {
          "base_uri": "https://localhost:8080/"
        },
        "id": "9o2kzkVTFzdt",
        "outputId": "e1580d8c-24f0-468e-a76d-31b49ce612c9"
      },
      "source": [
        "a = '123123'\n",
        "int(a)"
      ],
      "execution_count": null,
      "outputs": [
        {
          "output_type": "execute_result",
          "data": {
            "text/plain": [
              "123123"
            ]
          },
          "metadata": {},
          "execution_count": 259
        }
      ]
    },
    {
      "cell_type": "code",
      "metadata": {
        "colab": {
          "base_uri": "https://localhost:8080/"
        },
        "id": "CpIrQFKQGOBu",
        "outputId": "6202ec9c-05e4-4da9-ac98-bc07faa0f004"
      },
      "source": [
        "a = '병신'\n",
        "print('바보' + a , a+a)"
      ],
      "execution_count": null,
      "outputs": [
        {
          "output_type": "stream",
          "name": "stdout",
          "text": [
            "바보병신 병신병신\n"
          ]
        }
      ]
    },
    {
      "cell_type": "code",
      "metadata": {
        "colab": {
          "base_uri": "https://localhost:8080/"
        },
        "id": "ujlw9hUcGdTT",
        "outputId": "8f726f8c-4d26-4842-c10a-27a27dfed0cd"
      },
      "source": [
        "list = ['d', 'c', 'a', 'b']\n",
        "list.reverse()\n",
        "print(\"리스트 항목 순서 뒤집기\", list)\n",
        "list.sort()\n",
        "print('리스트 항목 정렬하기', list)\n",
        "list.sort(reverse=True)\n",
        "print('리스트 항목 역정렬하기', list)\n",
        "for index, value in enumerate(list):\n",
        " print('인덱스', index, '위치의 값은', value)\n",
        "\n",
        "for g,i in enumerate(list,):\n",
        "  print(type(g),type(i))\n",
        "  print(str(g)+i)"
      ],
      "execution_count": null,
      "outputs": [
        {
          "output_type": "stream",
          "name": "stdout",
          "text": [
            "리스트 항목 순서 뒤집기 ['b', 'a', 'c', 'd']\n",
            "리스트 항목 정렬하기 ['a', 'b', 'c', 'd']\n",
            "리스트 항목 역정렬하기 ['d', 'c', 'b', 'a']\n",
            "인덱스 0 위치의 값은 d\n",
            "인덱스 1 위치의 값은 c\n",
            "인덱스 2 위치의 값은 b\n",
            "인덱스 3 위치의 값은 a\n",
            "<class 'int'> <class 'str'>\n",
            "0d\n",
            "<class 'int'> <class 'str'>\n",
            "1c\n",
            "<class 'int'> <class 'str'>\n",
            "2b\n",
            "<class 'int'> <class 'str'>\n",
            "3a\n"
          ]
        }
      ]
    },
    {
      "cell_type": "code",
      "metadata": {
        "colab": {
          "base_uri": "https://localhost:8080/"
        },
        "id": "UaCfO4ZFI0sm",
        "outputId": "9a969b33-9f5b-4474-f252-c605c7143e25"
      },
      "source": [
        "import random\n",
        "\n",
        "n = random.randint(1,6) # 6포함\n",
        "d = random.randint(5,6) # 6포함\n",
        "n,d\n"
      ],
      "execution_count": null,
      "outputs": [
        {
          "output_type": "execute_result",
          "data": {
            "text/plain": [
              "(4, 5)"
            ]
          },
          "metadata": {},
          "execution_count": 262
        }
      ]
    },
    {
      "cell_type": "code",
      "metadata": {
        "colab": {
          "base_uri": "https://localhost:8080/",
          "height": 36
        },
        "id": "4F5MfZ51JRct",
        "outputId": "ad5d142f-3b4a-4a35-cc82-9cc1a1fa5ac0"
      },
      "source": [
        "\"dd\"+\"ss\""
      ],
      "execution_count": null,
      "outputs": [
        {
          "output_type": "execute_result",
          "data": {
            "application/vnd.google.colaboratory.intrinsic+json": {
              "type": "string"
            },
            "text/plain": [
              "'ddss'"
            ]
          },
          "metadata": {},
          "execution_count": 263
        }
      ]
    },
    {
      "cell_type": "code",
      "metadata": {
        "colab": {
          "base_uri": "https://localhost:8080/",
          "height": 36
        },
        "id": "aQaWQdiMJUUG",
        "outputId": "af488d71-d2a1-4271-bc36-6038eb6a2204"
      },
      "source": [
        "\"123\"+('123')"
      ],
      "execution_count": null,
      "outputs": [
        {
          "output_type": "execute_result",
          "data": {
            "application/vnd.google.colaboratory.intrinsic+json": {
              "type": "string"
            },
            "text/plain": [
              "'123123'"
            ]
          },
          "metadata": {},
          "execution_count": 264
        }
      ]
    },
    {
      "cell_type": "code",
      "metadata": {
        "colab": {
          "base_uri": "https://localhost:8080/"
        },
        "id": "qWpMPpjAJ5zz",
        "outputId": "6682f3eb-9c53-4f9e-db29-8dd9bb98078d"
      },
      "source": [
        "import random\n",
        "# 인자 값 - 주사위 눈 수 조정. pip : 주사위의 눈을 의미\n",
        "def rolling_dice(pip):\n",
        " n = random.randint(1, pip)\n",
        " print(pip, '면 주사위 굴린 결과 : ' , n)\n",
        "rolling_dice(6)\n",
        "rolling_dice(6)\n",
        "# 다른 코드들 1…\n",
        "rolling_dice(12)\n",
        "# 다른 코드들 2…\n",
        "rolling_dice(20)"
      ],
      "execution_count": null,
      "outputs": [
        {
          "output_type": "stream",
          "name": "stdout",
          "text": [
            "6 면 주사위 굴린 결과 :  5\n",
            "6 면 주사위 굴린 결과 :  1\n",
            "12 면 주사위 굴린 결과 :  4\n",
            "20 면 주사위 굴린 결과 :  10\n"
          ]
        }
      ]
    },
    {
      "cell_type": "code",
      "metadata": {
        "colab": {
          "base_uri": "https://localhost:8080/"
        },
        "id": "TvNt4atyKAFd",
        "outputId": "a919d81a-23cb-481f-a6e6-02f0cd3c1d5d"
      },
      "source": [
        "import random\n",
        "\n",
        "def rolling_dice(pip,repeat):\n",
        "  for i in range(1,repeat + 1):\n",
        "    n = random.randint(1,pip)\n",
        "    print(str(pip)+\"면 주사위를 굴린 결과\",i , \":\",n)\n",
        "\n",
        "\n",
        "#rolling_dice( 6, 10)\n",
        "rolling_dice(20, 3)"
      ],
      "execution_count": null,
      "outputs": [
        {
          "output_type": "stream",
          "name": "stdout",
          "text": [
            "20면 주사위를 굴린 결과 1 : 2\n",
            "20면 주사위를 굴린 결과 2 : 12\n",
            "20면 주사위를 굴린 결과 3 : 15\n"
          ]
        }
      ]
    },
    {
      "cell_type": "code",
      "metadata": {
        "colab": {
          "base_uri": "https://localhost:8080/"
        },
        "id": "GstposJ3MEtb",
        "outputId": "41d68700-1f21-412b-da7e-67a67764f9da"
      },
      "source": [
        "def p( *args ):\n",
        " str = ''\n",
        " for a in args:\n",
        "  str = str + a\n",
        " print(str)\n",
        "p('♡')\n",
        "p('♡', '♪')\n",
        "p('♡', '♪', '♣', '♠')"
      ],
      "execution_count": null,
      "outputs": [
        {
          "output_type": "stream",
          "name": "stdout",
          "text": [
            "♡\n",
            "♡♪\n",
            "♡♪♣♠\n"
          ]
        }
      ]
    },
    {
      "cell_type": "code",
      "metadata": {
        "colab": {
          "base_uri": "https://localhost:8080/"
        },
        "id": "w0jPVrHKNGBk",
        "outputId": "900a47ee-af99-4347-8c03-cd2d09b2d658"
      },
      "source": [
        "def p( space, space_num, *args ):\n",
        "  str = args[0]\n",
        "  for i in range(1, len(args)):\n",
        "    str = str + (space * space_num) + args[i]\n",
        "  print(str)\n",
        "\n",
        "p(\" \", 2, \"♡\")\n",
        "p(\"/\", 1, \"♡\")\n",
        "p(\",\", 3, \"♡\", \"♪\")\n",
        "p(\"☆\", 2, \"♡\", \"♪\", \"♣\")\n",
        "p(\"_\", 3, \"♡\", \"♪\", \"♣\", \"♠\")"
      ],
      "execution_count": null,
      "outputs": [
        {
          "output_type": "stream",
          "name": "stdout",
          "text": [
            "♡\n",
            "♡\n",
            "♡,,,♪\n",
            "♡☆☆♪☆☆♣\n",
            "♡___♪___♣___♠\n"
          ]
        }
      ]
    },
    {
      "cell_type": "code",
      "metadata": {
        "colab": {
          "base_uri": "https://localhost:8080/",
          "height": 334
        },
        "id": "mFtdH8KfN45M",
        "outputId": "cfe69521-d9a2-4263-a4b3-8c3bc43ce762"
      },
      "source": [
        "def gg(a,*b):\n",
        "  \n",
        "  for i in b:\n",
        "    v = \"\"\n",
        "    for i in range(0,b):\n",
        "      v = v + a\n",
        "    print(v)\n",
        "\n",
        "gg('ㅇ',1,2,3)"
      ],
      "execution_count": null,
      "outputs": [
        {
          "output_type": "error",
          "ename": "TypeError",
          "evalue": "ignored",
          "traceback": [
            "\u001b[0;31m---------------------------------------------------------------------------\u001b[0m",
            "\u001b[0;31mTypeError\u001b[0m                                 Traceback (most recent call last)",
            "\u001b[0;32m<ipython-input-1-76f4e199d175>\u001b[0m in \u001b[0;36m<module>\u001b[0;34m()\u001b[0m\n\u001b[1;32m      7\u001b[0m     \u001b[0mprint\u001b[0m\u001b[0;34m(\u001b[0m\u001b[0mv\u001b[0m\u001b[0;34m)\u001b[0m\u001b[0;34m\u001b[0m\u001b[0;34m\u001b[0m\u001b[0m\n\u001b[1;32m      8\u001b[0m \u001b[0;34m\u001b[0m\u001b[0m\n\u001b[0;32m----> 9\u001b[0;31m \u001b[0mgg\u001b[0m\u001b[0;34m(\u001b[0m\u001b[0;34m'ㅇ'\u001b[0m\u001b[0;34m,\u001b[0m\u001b[0;36m1\u001b[0m\u001b[0;34m,\u001b[0m\u001b[0;36m2\u001b[0m\u001b[0;34m,\u001b[0m\u001b[0;36m3\u001b[0m\u001b[0;34m)\u001b[0m\u001b[0;34m\u001b[0m\u001b[0;34m\u001b[0m\u001b[0m\n\u001b[0m",
            "\u001b[0;32m<ipython-input-1-76f4e199d175>\u001b[0m in \u001b[0;36mgg\u001b[0;34m(a, *b)\u001b[0m\n\u001b[1;32m      3\u001b[0m   \u001b[0;32mfor\u001b[0m \u001b[0mi\u001b[0m \u001b[0;32min\u001b[0m \u001b[0mb\u001b[0m\u001b[0;34m:\u001b[0m\u001b[0;34m\u001b[0m\u001b[0;34m\u001b[0m\u001b[0m\n\u001b[1;32m      4\u001b[0m     \u001b[0mv\u001b[0m \u001b[0;34m=\u001b[0m \u001b[0;34m\"\"\u001b[0m\u001b[0;34m\u001b[0m\u001b[0;34m\u001b[0m\u001b[0m\n\u001b[0;32m----> 5\u001b[0;31m     \u001b[0;32mfor\u001b[0m \u001b[0mi\u001b[0m \u001b[0;32min\u001b[0m \u001b[0mrange\u001b[0m\u001b[0;34m(\u001b[0m\u001b[0;36m0\u001b[0m\u001b[0;34m,\u001b[0m\u001b[0mb\u001b[0m\u001b[0;34m)\u001b[0m\u001b[0;34m:\u001b[0m\u001b[0;34m\u001b[0m\u001b[0;34m\u001b[0m\u001b[0m\n\u001b[0m\u001b[1;32m      6\u001b[0m       \u001b[0mv\u001b[0m \u001b[0;34m=\u001b[0m \u001b[0mv\u001b[0m \u001b[0;34m+\u001b[0m \u001b[0ma\u001b[0m\u001b[0;34m\u001b[0m\u001b[0;34m\u001b[0m\u001b[0m\n\u001b[1;32m      7\u001b[0m     \u001b[0mprint\u001b[0m\u001b[0;34m(\u001b[0m\u001b[0mv\u001b[0m\u001b[0;34m)\u001b[0m\u001b[0;34m\u001b[0m\u001b[0;34m\u001b[0m\u001b[0m\n",
            "\u001b[0;31mTypeError\u001b[0m: 'tuple' object cannot be interpreted as an integer"
          ]
        }
      ]
    },
    {
      "cell_type": "code",
      "metadata": {
        "id": "_N08PqF0PE4F"
      },
      "source": [
        ""
      ],
      "execution_count": null,
      "outputs": []
    },
    {
      "cell_type": "code",
      "metadata": {
        "colab": {
          "base_uri": "https://localhost:8080/",
          "height": 36
        },
        "id": "AQLrVS3l5-KY",
        "outputId": "20e6e401-9865-458c-cf59-a86f107cb208"
      },
      "source": [
        "h = '  Happy Programming! '\n",
        "\n",
        "h.replace('Happy', 'Funny')"
      ],
      "execution_count": null,
      "outputs": [
        {
          "output_type": "execute_result",
          "data": {
            "application/vnd.google.colaboratory.intrinsic+json": {
              "type": "string"
            },
            "text/plain": [
              "'  Funny Programming! '"
            ]
          },
          "metadata": {},
          "execution_count": 5
        }
      ]
    },
    {
      "cell_type": "code",
      "metadata": {
        "colab": {
          "base_uri": "https://localhost:8080/"
        },
        "id": "2qLToXbF6BZT",
        "outputId": "36da6f30-245b-41ed-f1e8-3b0292d0c554"
      },
      "source": [
        "h.find(\"ap\")"
      ],
      "execution_count": null,
      "outputs": [
        {
          "output_type": "execute_result",
          "data": {
            "text/plain": [
              "3"
            ]
          },
          "metadata": {},
          "execution_count": 6
        }
      ]
    },
    {
      "cell_type": "code",
      "metadata": {
        "colab": {
          "base_uri": "https://localhost:8080/"
        },
        "id": "RTQe7nX96P3y",
        "outputId": "e8e47f46-d9f3-485d-df03-a2ff90314e23"
      },
      "source": [
        "h.rfind('ap')"
      ],
      "execution_count": null,
      "outputs": [
        {
          "output_type": "execute_result",
          "data": {
            "text/plain": [
              "3"
            ]
          },
          "metadata": {},
          "execution_count": 13
        }
      ]
    }
  ]
}