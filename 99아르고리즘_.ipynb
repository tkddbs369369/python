{
  "nbformat": 4,
  "nbformat_minor": 0,
  "metadata": {
    "colab": {
      "name": "99아르고리즘 .ipynb",
      "provenance": [],
      "include_colab_link": true
    },
    "kernelspec": {
      "name": "python3",
      "display_name": "Python 3"
    },
    "language_info": {
      "name": "python"
    }
  },
  "cells": [
    {
      "cell_type": "markdown",
      "metadata": {
        "id": "view-in-github",
        "colab_type": "text"
      },
      "source": [
        "<a href=\"https://colab.research.google.com/github/tkddbs369369/python/blob/main/99%EC%95%84%EB%A5%B4%EA%B3%A0%EB%A6%AC%EC%A6%98_.ipynb\" target=\"_parent\"><img src=\"https://colab.research.google.com/assets/colab-badge.svg\" alt=\"Open In Colab\"/></a>"
      ]
    },
    {
      "cell_type": "code",
      "metadata": {
        "colab": {
          "base_uri": "https://localhost:8080/"
        },
        "id": "a3IbyJOs1r1s",
        "outputId": "b446dd05-a871-4336-e0b9-e05771040ef4"
      },
      "source": [
        "def GuGu(n=2):\n",
        "  for i in range(1,9+1):\n",
        "    print(f' {n} * {i} = {i*n}')\n",
        "\n",
        "\n",
        "\n",
        "GuGu(3)"
      ],
      "execution_count": null,
      "outputs": [
        {
          "output_type": "stream",
          "name": "stdout",
          "text": [
            " 3 * 1 = 3\n",
            " 3 * 2 = 6\n",
            " 3 * 3 = 9\n",
            " 3 * 4 = 12\n",
            " 3 * 5 = 15\n",
            " 3 * 6 = 18\n",
            " 3 * 7 = 21\n",
            " 3 * 8 = 24\n",
            " 3 * 9 = 27\n"
          ]
        }
      ]
    },
    {
      "cell_type": "code",
      "metadata": {
        "colab": {
          "base_uri": "https://localhost:8080/"
        },
        "id": "7hQrVjKa5yox",
        "outputId": "417ed64b-aa0c-4e9f-f277-3845a520d0ba"
      },
      "source": [
        "#원의 넓이를 리턴하는 circle_area 함수를 만드시오\n",
        "\n",
        "# 1\n",
        "\n",
        "def circle_area_1(r):\n",
        "  return(f\"{(r/2)**2}𝝿\")\n",
        "\n",
        "print(circle_area_1(4))\n",
        "\n",
        "\n",
        "# 2\n",
        "\n",
        "def circle_area(r):\n",
        "  from math import pi\n",
        "  return f\"{((r/2)**2)*pi}\"\n",
        "\n",
        "\n",
        "print(circle_area(100))\n"
      ],
      "execution_count": null,
      "outputs": [
        {
          "output_type": "stream",
          "name": "stdout",
          "text": [
            "4.0𝝿\n",
            "7853.981633974483\n"
          ]
        }
      ]
    }
  ]
}