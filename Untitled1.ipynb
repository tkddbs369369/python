{
  "nbformat": 4,
  "nbformat_minor": 0,
  "metadata": {
    "colab": {
      "name": "Untitled1.ipynb",
      "provenance": [],
      "include_colab_link": true
    },
    "kernelspec": {
      "name": "python3",
      "display_name": "Python 3"
    },
    "language_info": {
      "name": "python"
    },
    "accelerator": "GPU"
  },
  "cells": [
    {
      "cell_type": "markdown",
      "metadata": {
        "id": "view-in-github",
        "colab_type": "text"
      },
      "source": [
        "<a href=\"https://colab.research.google.com/github/tkddbs369369/python/blob/main/Untitled1.ipynb\" target=\"_parent\"><img src=\"https://colab.research.google.com/assets/colab-badge.svg\" alt=\"Open In Colab\"/></a>"
      ]
    },
    {
      "cell_type": "markdown",
      "metadata": {
        "id": "oSQgnVcZQwk8"
      },
      "source": [
        "##  ** 학습목표 **\n",
        "\n",
        "1. 함수의 이해\n",
        "2. 함수 구현 및 사용 숙지\n",
        "\n",
        "- 표준함수(내장함수)\n",
        "- 사용자 정의 함수"
      ]
    },
    {
      "cell_type": "markdown",
      "metadata": {
        "id": "l1TBawBsRQN8"
      },
      "source": [
        "**함수?**\n",
        "\n",
        "- 예를 들어, print(), range()\n",
        "- range(3,9) -> 3,4,5,6,7,8\n",
        "#괄호 안에 입력값을 주어서 수를 반환\n",
        "- 이미 구현된 함수: 내장 함수(built-in function)"
      ]
    },
    {
      "cell_type": "markdown",
      "metadata": {
        "id": "JySjcY0Sc2FK"
      },
      "source": [
        "## 수학 관련된 내장함수\n",
        "\n",
        "\n",
        "1. abs() : 절댓값\n",
        "2. 진수변환\n",
        "- bin() : 10 -> 2\n",
        "- oct() : 10 -> 8\n",
        "- oct() ; 10 -> 16\n",
        "\n",
        "3. 연산\n",
        "\n",
        "- sum() : 합계\n",
        "- pow() : 거듭제곱\n",
        "- max() : 최댓값\n",
        "- min() : 최솟값\n"
      ]
    },
    {
      "cell_type": "code",
      "metadata": {
        "colab": {
          "base_uri": "https://localhost:8080/"
        },
        "id": "JB70bpfneN5y",
        "outputId": "0e3e5569-f90d-4e57-cbd4-bd26bf5f7f65"
      },
      "source": [
        "print(-10, '의  절댓값 : ', abs(-10))\n",
        "print(128, '의 2진수 : ', bin(128))\n",
        "print(7, '의 8진수 : ', oct(17))\n",
        "print(16, '의 16진수 : ', hex(521521))"
      ],
      "execution_count": null,
      "outputs": [
        {
          "output_type": "stream",
          "name": "stdout",
          "text": [
            "-10 의  절댓값 :  10\n",
            "128 의 2진수 :  0b10000000\n",
            "7 의 8진수 :  0o21\n",
            "16 의 16진수 :  0x7f531\n"
          ]
        }
      ]
    },
    {
      "cell_type": "code",
      "metadata": {
        "colab": {
          "base_uri": "https://localhost:8080/"
        },
        "id": "ByeEuwOPfSaK",
        "outputId": "5683896b-ac18-46a7-9dce-e5984eb8cbb2"
      },
      "source": [
        "num = [2,4,8,1,7,3]\n",
        "alpa = ['a','A','c','p','P']\n",
        "\n",
        "print(\"가장 큰 값 \", max(num))\n",
        "print(\"가장 작은 값 \", min(num))\n",
        "\n",
        "print(\"가장 큰 값 \", max(alpa))\n",
        "print(\"가장 작은 값 \", min(alpa))\n",
        "\n",
        "print(\"리스트 합계 \", sum(num))\n",
        "\n",
        "#print(\"문자열 합계\", sum(alpa))\n",
        "\n",
        "# 3의4승\n",
        "print(\"pow(3의 4승) : \", pow(3,4))\n",
        "\n",
        "\n",
        "\n",
        "\n",
        "pi = 3.14159226535\n",
        "print('3.14159226535 의 소숫점 6번쨰까지 반올림', round(pi,6))"
      ],
      "execution_count": null,
      "outputs": [
        {
          "output_type": "stream",
          "name": "stdout",
          "text": [
            "가장 큰 값  8\n",
            "가장 작은 값  1\n",
            "가장 큰 값  p\n",
            "가장 작은 값  A\n",
            "리스트 합계  25\n",
            "pow(3의 4승) :  81\n",
            "3.14159226535 의 소숫점 6번쨰까지 반올림 3.141592\n"
          ]
        }
      ]
    },
    {
      "cell_type": "markdown",
      "metadata": {
        "id": "UmbXdXDhhOMD"
      },
      "source": [
        "## ** 문자열 관련 내장함수 **\n",
        "\n",
        "- input(): ()안에 문자열 매개변수를 출력한 후 입력을 받는다.\n",
        "- format(): 일부 내용을 치환하여 내가 의도한 형식의 문자열 출력하는함수"
      ]
    },
    {
      "cell_type": "code",
      "metadata": {
        "colab": {
          "base_uri": "https://localhost:8080/"
        },
        "id": "Rqdn9qGDhlbJ",
        "outputId": "80cd7475-04ed-4f1d-ff95-d6624e7f4dff"
      },
      "source": [
        "id = input(\"아이디를 입력하세요\")\n",
        "\n",
        "password = input(\"비밀번호를 입력하세요\")\n",
        "\n",
        "print('{}님! 가입을 환영합니다!'.format(id))\n",
        "print(f'{id}님! 가입을 환영합니다!')\n",
        "print('{0}님! 가입을 환영합니다! {0}님'.format(id))"
      ],
      "execution_count": null,
      "outputs": [
        {
          "output_type": "stream",
          "name": "stdout",
          "text": [
            "아이디를 입력하세요박상윤\n",
            "비밀번호를 입력하세요12111\n",
            "박상윤님! 가입을 환영합니다!\n",
            "박상윤님! 가입을 환영합니다!\n",
            "박상윤님! 가입을 환영합니다! 박상윤님\n"
          ]
        }
      ]
    },
    {
      "cell_type": "code",
      "metadata": {
        "colab": {
          "base_uri": "https://localhost:8080/"
        },
        "id": "oDkC9oNHotlK",
        "outputId": "107cb13a-c0a1-442f-903e-85debac1d06c"
      },
      "source": [
        "# 가위바위보 게임\n",
        "\n",
        "import random\n",
        "\n",
        "'''\n",
        "com = random.randint(1,3)\n",
        "if com==1:\n",
        "  print('바위')\n",
        "elif com==2:\n",
        "  print('가위')\n",
        "elif com==3:\n",
        "  print('보')\n",
        "'''\n",
        "hu = 0\n",
        "puter = 0\n",
        "b = 0\n",
        "com = 0\n",
        "while True:\n",
        "  a = ['가위','주먹','보']\n",
        "  com = random.randint(0,2)\n",
        "  com = a[com]\n",
        "\n",
        "  human = input()\n",
        "  \n",
        "  if human == com:\n",
        "    print('비김')\n",
        "    print(\"\")\n",
        "    b += 1\n",
        "    if b == 3:\n",
        "      break\n",
        "    continue\n",
        "  elif human == '가위' and com == '보':\n",
        "    print(human , com)\n",
        "    print('인간 승')\n",
        "    print(\"\")\n",
        "    hu += 1\n",
        "  \n",
        "  elif human == '보' and com == '주먹':\n",
        "    print(human , com)\n",
        "    print('인간 승')\n",
        "    print(\"\")\n",
        "    hu += 1\n",
        "\n",
        "  elif human == '주먹' and com == '가위':\n",
        "    print(human , com)\n",
        "    print('인간 승')\n",
        "    print(\"\")\n",
        "    hu += 1\n",
        "  else:\n",
        "    puter += 1\n",
        "    print(human , com)\n",
        "    print('기계승')\n",
        "    print(\"\")\n",
        "  \n",
        "  b += 1\n",
        "  \n",
        "  if hu == 2:\n",
        "    break\n",
        "  elif puter == 2:\n",
        "    break\n",
        "  elif b == 3:\n",
        "    print(' 경기가 종료되었습니다, 결과 : 비김')\n",
        "\n",
        "if hu < puter:\n",
        "  print('기계승')\n",
        "\n",
        "else:\n",
        "  print('인간승')\n",
        "\n",
        "\n",
        "\n",
        "\n",
        "\n",
        "\n",
        "\n"
      ],
      "execution_count": null,
      "outputs": [
        {
          "output_type": "stream",
          "name": "stdout",
          "text": [
            "보\n",
            "보 주먹\n",
            "인간 승\n",
            "\n",
            "보\n",
            "비김\n",
            "\n",
            "보\n",
            "비김\n",
            "\n",
            "인간승\n"
          ]
        }
      ]
    },
    {
      "cell_type": "code",
      "metadata": {
        "colab": {
          "base_uri": "https://localhost:8080/"
        },
        "id": "h1fX7Cr1qa9K",
        "outputId": "ed71b51b-c082-40d5-951d-9d4fa1c10c23"
      },
      "source": [
        "a = 1\n",
        "\n",
        "b = 1 \n",
        "\n",
        "a == b"
      ],
      "execution_count": null,
      "outputs": [
        {
          "output_type": "execute_result",
          "data": {
            "text/plain": [
              "True"
            ]
          },
          "metadata": {},
          "execution_count": 24
        }
      ]
    },
    {
      "cell_type": "code",
      "metadata": {
        "colab": {
          "base_uri": "https://localhost:8080/",
          "height": 35
        },
        "id": "R9oBsiBgtSSJ",
        "outputId": "5fdf5696-3e84-4393-d138-277fb9b12ddc"
      },
      "source": [
        "a = ['가위','바위','보']\n",
        "com = random.randint(0,2)\n",
        "a[com]"
      ],
      "execution_count": null,
      "outputs": [
        {
          "output_type": "execute_result",
          "data": {
            "application/vnd.google.colaboratory.intrinsic+json": {
              "type": "string"
            },
            "text/plain": [
              "'가위'"
            ]
          },
          "metadata": {},
          "execution_count": 35
        }
      ]
    },
    {
      "cell_type": "code",
      "metadata": {
        "id": "hZYW-S6JtXYv"
      },
      "source": [
        "'가위','바위','보''가위','바위','보'"
      ],
      "execution_count": null,
      "outputs": []
    },
    {
      "cell_type": "code",
      "metadata": {
        "id": "u_VPrbaowLoJ"
      },
      "source": [
        "  \"\"\"\n",
        "  if human == com:\n",
        "    print('비김')\n",
        "    continue\n",
        "  if human == 1 and com == 2:\n",
        "    print('인간승')\n",
        "    puter += 1\n",
        "  else:\n",
        "    print('컴패')\n",
        "\n",
        "  if human == 2 and com == 3:\n",
        "    print('인간승')\n",
        "    puter += 1 \n",
        "  else:\n",
        "    print('컴패')\n",
        "  \n",
        "  if human == 3 and com == 1:\n",
        "    print('좃간패')    \n",
        "    hu += 1\n",
        "  else:\n",
        "    print('컴터승')\n",
        "\n",
        "  a += 1\n",
        "  if a == 3:\n",
        "    break\n",
        "  \n",
        "\"\"\"\n"
      ],
      "execution_count": null,
      "outputs": []
    }
  ]
}