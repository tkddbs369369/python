{
  "nbformat": 4,
  "nbformat_minor": 0,
  "metadata": {
    "colab": {
      "name": "211026.ipynb",
      "provenance": [],
      "collapsed_sections": [],
      "mount_file_id": "1fKBezOIteM42Ayk06HdbgiatUz2QWbcD",
      "authorship_tag": "ABX9TyPJ/VSDIyHMDG0Pon4MOW3A",
      "include_colab_link": true
    },
    "kernelspec": {
      "name": "python3",
      "display_name": "Python 3"
    },
    "language_info": {
      "name": "python"
    }
  },
  "cells": [
    {
      "cell_type": "markdown",
      "metadata": {
        "id": "view-in-github",
        "colab_type": "text"
      },
      "source": [
        "<a href=\"https://colab.research.google.com/github/tkddbs369369/python/blob/main/211026.ipynb\" target=\"_parent\"><img src=\"https://colab.research.google.com/assets/colab-badge.svg\" alt=\"Open In Colab\"/></a>"
      ]
    },
    {
      "cell_type": "markdown",
      "metadata": {
        "id": "E0WKcF26CS8E"
      },
      "source": [
        "## 학습목표\n",
        "\n",
        "1. 모듈의 이해 및 모듈 import\n"
      ]
    },
    {
      "cell_type": "code",
      "metadata": {
        "colab": {
          "base_uri": "https://localhost:8080/"
        },
        "id": "H34eR0eECqCU",
        "outputId": "e9b9cf9f-e14e-46d4-dd32-01fca2dd03f1"
      },
      "source": [
        "import math\n",
        "\n",
        "pipi = math.pi\n",
        "fact = math.factorial(5)\n",
        "root = math.sqrt(25)\n",
        "\n",
        "print(pipi)\n",
        "print(fact)\n",
        "print(root)"
      ],
      "execution_count": 18,
      "outputs": [
        {
          "output_type": "stream",
          "name": "stdout",
          "text": [
            "3.141592653589793\n",
            "120\n",
            "5.0\n"
          ]
        }
      ]
    },
    {
      "cell_type": "code",
      "metadata": {
        "colab": {
          "base_uri": "https://localhost:8080/"
        },
        "id": "7hjsvBn_EDwM",
        "outputId": "a1b030da-551a-4ec2-c0bb-f642a85a1906"
      },
      "source": [
        "from random import *\n",
        "\n",
        "print('주사위 값:', randint(1,6))\n",
        "print('주사위 값:', randrange(1,7))\n",
        "\n",
        "\n",
        "list = ['가위','바위','보']\n",
        "season = ['봄','여름','가을','겨울']\n",
        "print('가위바위보:', choice(list))\n",
        "print('계절:', choice(list))"
      ],
      "execution_count": 36,
      "outputs": [
        {
          "output_type": "stream",
          "name": "stdout",
          "text": [
            "주사위 값: 1\n",
            "주사위 값: 4\n",
            "가위바위보: 가위\n",
            "계절: 바위\n"
          ]
        }
      ]
    },
    {
      "cell_type": "code",
      "metadata": {
        "colab": {
          "base_uri": "https://localhost:8080/"
        },
        "id": "aqWhr6wvGZDj",
        "outputId": "50949bb7-dac9-459c-fc0d-ac6e36947eb4"
      },
      "source": [
        "from datetime import *\n",
        "\n",
        "today = datetime.now()\n",
        "\n",
        "print('오늘의 시간',today)\n",
        "print(f'{today.year}년 {today.month}월 {today.day}일')\n",
        "print(f'{today.hour}시 {today.minute}분 {today.second}초')\n",
        "\n",
        "xmas = datetime(2021,12,25)\n",
        "k_sat = datetime(2023,11,16)\n",
        "\n",
        "print('xmas: ',xmas)\n",
        "print('고백까지 남은 Day:', xmas-today)\n",
        "print('수능까지 남은 Day:', k_sat)"
      ],
      "execution_count": 61,
      "outputs": [
        {
          "output_type": "stream",
          "name": "stdout",
          "text": [
            "오늘의 시간 2021-10-26 01:06:38.950613\n",
            "2021년 10월 26일\n",
            "1시 6분 38초\n",
            "xmas:  2021-12-25 00:00:00\n",
            "고백까지 남은 Day: 59 days, 22:53:21.049387\n",
            "수능까지 남은 Day: 2023-11-16 00:00:00\n"
          ]
        }
      ]
    }
  ]
}