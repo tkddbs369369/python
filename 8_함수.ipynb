{
  "nbformat": 4,
  "nbformat_minor": 0,
  "metadata": {
    "colab": {
      "name": "8_함수.ipynb",
      "provenance": [],
      "authorship_tag": "ABX9TyNAbEkB4IoB58VkxUoCJjZh",
      "include_colab_link": true
    },
    "kernelspec": {
      "name": "python3",
      "display_name": "Python 3"
    },
    "language_info": {
      "name": "python"
    }
  },
  "cells": [
    {
      "cell_type": "markdown",
      "metadata": {
        "id": "view-in-github",
        "colab_type": "text"
      },
      "source": [
        "<a href=\"https://colab.research.google.com/github/tkddbs369369/python/blob/main/8_%ED%95%A8%EC%88%98.ipynb\" target=\"_parent\"><img src=\"https://colab.research.google.com/assets/colab-badge.svg\" alt=\"Open In Colab\"/></a>"
      ]
    },
    {
      "cell_type": "markdown",
      "metadata": {
        "id": "bLIf7pvc_4cE"
      },
      "source": [
        "#학습목표\n",
        "\n",
        "1. 함수의 이해 \n",
        "2. 함수 구현 및 사용 숙지\n"
      ]
    },
    {
      "cell_type": "markdown",
      "metadata": {
        "id": "7PyPxmpfAGez"
      },
      "source": [
        "## **함수?**\n",
        "- 예를 들어 range\n",
        "- 주어진 입력(input)에 대한 어떤 기능을 수행해서 출력(output)을 전달하는 역할\n",
        "> range() 정수를 입력으로 전달하면 [0,정수]까지 이루어진 리스트를 생성하는 역할을 해준다\n",
        "\n",
        "- 이 함수들은 python 내부에 정의(구현)되어있다. `내장함수(built-in_function`\n",
        "\n"
      ]
    },
    {
      "cell_type": "code",
      "metadata": {
        "colab": {
          "base_uri": "https://localhost:8080/"
        },
        "id": "9hYjiwc-BJwr",
        "outputId": "71e46636-219d-492e-8bb9-b1f1405ec2fa"
      },
      "source": [
        "#내장함수의 예\n",
        "a = [1,2,3,4,1,2,3,1,2,3,1,2,3,1,2,3,12,3,1,3,23,1,23,3,21,2,3,1,2,1,2,312,313]\n",
        "l = len(a)\n",
        "print(l)\n",
        "\n",
        "plus = sum(a)\n",
        "print(plus)"
      ],
      "execution_count": 4,
      "outputs": [
        {
          "output_type": "stream",
          "name": "stdout",
          "text": [
            "33\n",
            "760\n"
          ]
        }
      ]
    },
    {
      "cell_type": "markdown",
      "metadata": {
        "id": "pdW2qF6ZDOMT"
      },
      "source": [
        "## **함수의 정의**\n",
        "\n",
        "- def라는 키워드를 사용(definition)\n",
        "- (argument, parameter) 매개변수 : 함수의 입력으로 전달 하는 값\n",
        "- 함수의 내용 부분 \n",
        "  - 함수를 호출한 후 원하는 기능 수행후, 완료된 값을 return으로 출력\n",
        "\n",
        "- 중요한 건 함수의 네이밍\n",
        "  - 어떤 기능을 하는 함수인지 이름으로 나타낼수 있게 해야함\n",
        "- a(x), student_name(o)"
      ]
    },
    {
      "cell_type": "code",
      "metadata": {
        "colab": {
          "base_uri": "https://localhost:8080/"
        },
        "id": "vjdLlpQBR-HB",
        "outputId": "e3a4c27a-99c5-4a8b-9697-4d4b30300a03"
      },
      "source": [
        "def add(a,b):\n",
        "  n = a + b\n",
        "  return n\n",
        "\n",
        "def minus(a,b):\n",
        "  n = a - b\n",
        "  return n\n",
        "\n",
        "def mul(a,b):\n",
        "  n = a * b\n",
        "  return n\n",
        "\n",
        "\n",
        "x = add(100,200)\n",
        "y = minus(300,400)\n",
        "z = mul(300,300)\n",
        "print(x)\n",
        "print(y)\n",
        "print(z)"
      ],
      "execution_count": 13,
      "outputs": [
        {
          "output_type": "stream",
          "name": "stdout",
          "text": [
            "300\n",
            "-100\n",
            "90000\n"
          ]
        }
      ]
    }
  ]
}