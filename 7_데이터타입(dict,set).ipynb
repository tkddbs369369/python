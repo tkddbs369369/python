{
  "nbformat": 4,
  "nbformat_minor": 0,
  "metadata": {
    "colab": {
      "name": "7_데이터타입.ipynb",
      "provenance": [],
      "authorship_tag": "ABX9TyPSLKo1MjPYti6UWlcazyGc",
      "include_colab_link": true
    },
    "kernelspec": {
      "name": "python3",
      "display_name": "Python 3"
    },
    "language_info": {
      "name": "python"
    }
  },
  "cells": [
    {
      "cell_type": "markdown",
      "metadata": {
        "id": "view-in-github",
        "colab_type": "text"
      },
      "source": [
        "<a href=\"https://colab.research.google.com/github/tkddbs369369/python/blob/main/7_%EB%8D%B0%EC%9D%B4%ED%84%B0%ED%83%80%EC%9E%85(dict%2Cset).ipynb\" target=\"_parent\"><img src=\"https://colab.research.google.com/assets/colab-badge.svg\" alt=\"Open In Colab\"/></a>"
      ]
    },
    {
      "cell_type": "markdown",
      "metadata": {
        "id": "kb_AzmxDyYtA"
      },
      "source": [
        "## 학습목표\n",
        "- dictionary, set에 대해 이해하기\n"
      ]
    },
    {
      "cell_type": "markdown",
      "metadata": {
        "id": "DhQo3JSMyoRo"
      },
      "source": [
        "# dictionary\n",
        "- key와 value를 가지는 데이터 구조\n",
        "- key는 내부적으로 hash값으로 저장\n",
        "- 순서를 따지지 않음"
      ]
    },
    {
      "cell_type": "code",
      "metadata": {
        "colab": {
          "base_uri": "https://localhost:8080/"
        },
        "id": "vQF-FcdLzLhC",
        "outputId": "31a299dc-4037-46dc-a6ff-2cf5ca7e6dd8"
      },
      "source": [
        "a = {\"korea\":'seoul', \n",
        "     'Chanada':'Ottawn',\n",
        "     'USA':'washington D.C'}\n",
        "\n",
        "b = {0:1, 1:6, 7:9, 8:10}\n",
        "\n",
        "print(a['korea'])\n",
        "#print(a['japan']) 오류\n",
        "print(b[0])\n",
        "#print(b[3])  오류"
      ],
      "execution_count": 50,
      "outputs": [
        {
          "output_type": "stream",
          "name": "stdout",
          "text": [
            "seoul\n",
            "1\n"
          ]
        }
      ]
    },
    {
      "cell_type": "markdown",
      "metadata": {
        "id": "Wy56Eoqa0OCa"
      },
      "source": [
        "### **항목 추가 및 변경**\n",
        "\n",
        "- 기존에 키가 존재하면, 새로운 값으로 업데이트\n",
        "- 기존에 키가 존재하지 않으면 새로운 키 값으로 생성\n"
      ]
    },
    {
      "cell_type": "code",
      "metadata": {
        "colab": {
          "base_uri": "https://localhost:8080/"
        },
        "id": "ocVhH-6B04VS",
        "outputId": "c9a60d7c-0a3d-435a-8411-0d635614f080"
      },
      "source": [
        "a['Japan'] = 'Tokyo'\n",
        "a['Japan'] = 'Osaka'\n",
        "a['China'] = 'Beijing'\n",
        "\n",
        "print(a)"
      ],
      "execution_count": 51,
      "outputs": [
        {
          "output_type": "stream",
          "name": "stdout",
          "text": [
            "{'korea': 'seoul', 'Chanada': 'Ottawn', 'USA': 'washington D.C', 'Japan': 'Osaka', 'China': 'Beijing'}\n"
          ]
        }
      ]
    },
    {
      "cell_type": "markdown",
      "metadata": {
        "id": "hAuSRNsL1fV4"
      },
      "source": [
        "- update()\n",
        "  - 두 딕셔너리를 병합\n",
        "  - 겹치는 키가 있다면, 전달되는 값이 업데이트\n",
        "  "
      ]
    },
    {
      "cell_type": "code",
      "metadata": {
        "colab": {
          "base_uri": "https://localhost:8080/"
        },
        "id": "60lh6uj11qA1",
        "outputId": "1bdaef3f-6585-4a01-aced-cebc82010a94"
      },
      "source": [
        "a = {'a':'apple', 'b':'bus', 'c':'car'}\n",
        "b = {'a':'ant',\"b\":'dog',\"e\":\"egg\"}\n",
        "\n",
        "a.update(b)\n",
        "print(a)"
      ],
      "execution_count": 52,
      "outputs": [
        {
          "output_type": "stream",
          "name": "stdout",
          "text": [
            "{'a': 'ant', 'b': 'dog', 'c': 'car', 'e': 'egg'}\n"
          ]
        }
      ]
    },
    {
      "cell_type": "markdown",
      "metadata": {
        "id": "vekdqChZ2Qfv"
      },
      "source": [
        "## key 삭제\n",
        "- del 키워드\n",
        "- pop 함수 이용"
      ]
    },
    {
      "cell_type": "code",
      "metadata": {
        "colab": {
          "base_uri": "https://localhost:8080/"
        },
        "id": "FO2s4aO52VhZ",
        "outputId": "4ac73add-1258-4fd5-f3c2-fa42db364ffa"
      },
      "source": [
        "a = {'a':1,\"b\":2,\"c\":3}\n",
        "print(a)\n",
        "\n",
        "d = a.pop('b')\n",
        "print(a)\n",
        "print(d)\n",
        "\n",
        "del a['c']\n",
        "print(a)"
      ],
      "execution_count": 53,
      "outputs": [
        {
          "output_type": "stream",
          "name": "stdout",
          "text": [
            "{'a': 1, 'b': 2, 'c': 3}\n",
            "{'a': 1, 'c': 3}\n",
            "2\n",
            "{'a': 1}\n"
          ]
        }
      ]
    },
    {
      "cell_type": "markdown",
      "metadata": {
        "id": "Uz98BYAN3QMQ"
      },
      "source": [
        "## clear()\n",
        "- 딕셔너리 값을 모두 초기화\n"
      ]
    },
    {
      "cell_type": "code",
      "metadata": {
        "colab": {
          "base_uri": "https://localhost:8080/"
        },
        "id": "0FwX3y0V3Ucd",
        "outputId": "69c5e2c2-5f58-4df6-ad6a-0b06efb3a0f6"
      },
      "source": [
        "a['add'] = 3\n",
        "\n",
        "print(a)\n",
        "\n",
        "a.clear()\n",
        "\n",
        "print(a) #삭제됨"
      ],
      "execution_count": 54,
      "outputs": [
        {
          "output_type": "stream",
          "name": "stdout",
          "text": [
            "{'a': 1, 'add': 3}\n",
            "{}\n"
          ]
        }
      ]
    },
    {
      "cell_type": "markdown",
      "metadata": {
        "id": "ffsUM0aE8-Lf"
      },
      "source": [
        "# in \n",
        "- key 값 존재 확인"
      ]
    },
    {
      "cell_type": "code",
      "metadata": {
        "colab": {
          "base_uri": "https://localhost:8080/"
        },
        "id": "cARidpE69Chi",
        "outputId": "c568c763-c0a3-40ed-b775-af45e93060f5"
      },
      "source": [
        "a = {'a':1,\"b\":2,\"c\":3}\n",
        "print(2 in a)\n",
        "print('a' in a)\n",
        "\n",
        "a = {'a':1,\"b\":2,\"c\":3}\n",
        "#print(a['d']) 오류\n",
        "print(a.get('d'))"
      ],
      "execution_count": 55,
      "outputs": [
        {
          "output_type": "stream",
          "name": "stdout",
          "text": [
            "False\n",
            "True\n",
            "None\n"
          ]
        }
      ]
    },
    {
      "cell_type": "markdown",
      "metadata": {
        "id": "7kxmmam09k4_"
      },
      "source": [
        "- dict[key]로 접근, 키가 없는 경우에는 에러\n",
        "- .get() 함수로 접근, 키가 없는 경우에도 프로그램 실행 -> None 반환"
      ]
    },
    {
      "cell_type": "markdown",
      "metadata": {
        "id": "HH-GC9cJ_QZn"
      },
      "source": [
        "# 모든 keys, value접근\n",
        "- keys() 키만 반환\n",
        "- value() 값만 반환\n",
        "- items() 키,값을 튜플로 반환 "
      ]
    },
    {
      "cell_type": "code",
      "metadata": {
        "colab": {
          "base_uri": "https://localhost:8080/"
        },
        "id": "_d_1rsCk_i6m",
        "outputId": "f87ed87d-d19f-4588-feb6-3fec95b55fc1"
      },
      "source": [
        "a = {'a':1,\"b\":2,\"c\":3}\n",
        "\n",
        "print(a)\n",
        "print(a.keys())\n",
        "print(a.values())\n",
        "print(a.items())\n"
      ],
      "execution_count": 56,
      "outputs": [
        {
          "output_type": "stream",
          "name": "stdout",
          "text": [
            "{'a': 1, 'b': 2, 'c': 3}\n",
            "dict_keys(['a', 'b', 'c'])\n",
            "dict_values([1, 2, 3])\n",
            "dict_items([('a', 1), ('b', 2), ('c', 3)])\n"
          ]
        }
      ]
    },
    {
      "cell_type": "markdown",
      "metadata": {
        "id": "4ILc8KlLAHLu"
      },
      "source": [
        "## set\n",
        "- dictionary에서 key값만 활용한 데이터 구조 {}\n",
        "- 중복이 허용되지 않는 구조"
      ]
    },
    {
      "cell_type": "code",
      "metadata": {
        "colab": {
          "base_uri": "https://localhost:8080/"
        },
        "id": "of07V3BXAnKk",
        "outputId": "325ee073-5be4-42f6-e78d-3aecbf008454"
      },
      "source": [
        "a = {1,2,2,2,3,1,4,5,1,5,4,1,2}\n",
        "print(a)"
      ],
      "execution_count": 57,
      "outputs": [
        {
          "output_type": "stream",
          "name": "stdout",
          "text": [
            "{1, 2, 3, 4, 5}\n"
          ]
        }
      ]
    },
    {
      "cell_type": "code",
      "metadata": {
        "colab": {
          "base_uri": "https://localhost:8080/"
        },
        "id": "0VPuCE3rAt2X",
        "outputId": "6c693c81-33ab-4873-87d1-3c7ca65fb224"
      },
      "source": [
        "a = [1,2,2,3,1,2,3,1,2,3,3,4,1,2,3,1,4,1,2,2,3,1,3]\n",
        "print(a)\n",
        "\n",
        "b = set(a)\n",
        "print(b)"
      ],
      "execution_count": 58,
      "outputs": [
        {
          "output_type": "stream",
          "name": "stdout",
          "text": [
            "[1, 2, 2, 3, 1, 2, 3, 1, 2, 3, 3, 4, 1, 2, 3, 1, 4, 1, 2, 2, 3, 1, 3]\n",
            "{1, 2, 3, 4}\n"
          ]
        }
      ]
    },
    {
      "cell_type": "code",
      "metadata": {
        "colab": {
          "base_uri": "https://localhost:8080/"
        },
        "id": "Eku84d9_Blkn",
        "outputId": "c76db987-3ce6-474b-d17f-bfbafe9c0466"
      },
      "source": [
        "a = {1,2,3}\n",
        "b = {2,3,4}\n",
        "\n",
        "print(a.union(b)) #합집합\n",
        "print(a.intersection(b)) #교집합\n",
        "print(a.difference(b)) #차집합"
      ],
      "execution_count": 59,
      "outputs": [
        {
          "output_type": "stream",
          "name": "stdout",
          "text": [
            "{1, 2, 3, 4}\n",
            "{2, 3}\n",
            "{1}\n"
          ]
        }
      ]
    }
  ]
}