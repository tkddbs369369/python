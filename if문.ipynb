{
  "nbformat": 4,
  "nbformat_minor": 0,
  "metadata": {
    "colab": {
      "name": "if문.ipynb",
      "provenance": [],
      "collapsed_sections": [],
      "authorship_tag": "ABX9TyOUh3KKE0ypj98/g1Y6aB3/",
      "include_colab_link": true
    },
    "kernelspec": {
      "name": "python3",
      "display_name": "Python 3"
    },
    "language_info": {
      "name": "python"
    }
  },
  "cells": [
    {
      "cell_type": "markdown",
      "metadata": {
        "id": "view-in-github",
        "colab_type": "text"
      },
      "source": [
        "<a href=\"https://colab.research.google.com/github/tkddbs369369/python/blob/main/if%EB%AC%B8.ipynb\" target=\"_parent\"><img src=\"https://colab.research.google.com/assets/colab-badge.svg\" alt=\"Open In Colab\"/></a>"
      ]
    },
    {
      "cell_type": "markdown",
      "metadata": {
        "id": "ZhuvYX6id2nh"
      },
      "source": [
        "##**학습목표**\n",
        " - 조건문의 이해와 활용\n",
        " "
      ]
    },
    {
      "cell_type": "markdown",
      "metadata": {
        "id": "tKPC0e2BeATg"
      },
      "source": [
        "###**조건문(if)**\n",
        "- 특정 조건을 만족하는 경우에 수행할 작업을 만들떄 사용\n",
        "- 참 ,거짓으로 표현\n",
        "- if else elif 사용\n",
        "- 조건문의 경우 들려쓰기로 하나의 블록을 만들고 여러 종속된 코드를 사용해 중첩 코드가 가능\n",
        "- `블록(block)`:들여쓰기 된 코드\n",
        "- 모든 블록의 시작과 마지막에는 :(콜론:colon)이 필요"
      ]
    },
    {
      "cell_type": "markdown",
      "metadata": {
        "id": "NCkpFQqDfl8y"
      },
      "source": [
        ""
      ]
    },
    {
      "cell_type": "code",
      "metadata": {
        "id": "f1U8C7W9fl-A",
        "colab": {
          "base_uri": "https://localhost:8080/"
        },
        "outputId": "ad15956c-3e72-4311-e5c8-2c5344b518ca"
      },
      "source": [
        "if 20>10 : #just comment\n",
        "  print('참입니다')\n",
        "else:\n",
        "  print('거짓입니다')"
      ],
      "execution_count": null,
      "outputs": [
        {
          "output_type": "stream",
          "name": "stdout",
          "text": [
            "참입니다\n"
          ]
        }
      ]
    },
    {
      "cell_type": "markdown",
      "metadata": {
        "id": "n5lIPXbigWsp"
      },
      "source": [
        "## **if, else**\n",
        "\n",
        "- if가 아닌경우, 나머지 조건을 표현하고 시을때\n",
        "- if조건이 참 이면 if블록 안의 코드가 실행\n",
        "  - 거짓인 경우 else 블록안의 코드가 수행\n",
        "  - `주의!` if와 else사이에는 다른 코드가 삽입 불가"
      ]
    },
    {
      "cell_type": "code",
      "metadata": {
        "colab": {
          "base_uri": "https://localhost:8080/"
        },
        "id": "MZpBlFGWhnPM",
        "outputId": "760abdf6-feac-4f6c-bda4-7e1614632d9f"
      },
      "source": [
        "#어떤 수에 대해 짝수인경우 :짝수! 를 출력,\n",
        "# 홀수인 경우 '홀수!'를 출력하는 프로그램을 작성하시오.\n",
        "\n",
        "a = 100\n",
        "\n",
        "if a % 2 == 0: #나머지가 0인경우\n",
        "  print('짝수')\n",
        "else:\n",
        "  print('홀수')"
      ],
      "execution_count": 8,
      "outputs": [
        {
          "output_type": "stream",
          "name": "stdout",
          "text": [
            "홀수\n"
          ]
        }
      ]
    },
    {
      "cell_type": "markdown",
      "metadata": {
        "id": "cetcp51Nnfns"
      },
      "source": [
        "### **if , *elif*, else**\n",
        "\n",
        "- 조건이 여러개인 경우, 해당 조건을 elif 블록에서 명시\n",
        "- 각 조건을 확인 후, true 조건의 코드 블락을 실행후 전체 구문을 종료\n"
      ]
    },
    {
      "cell_type": "code",
      "metadata": {
        "colab": {
          "base_uri": "https://localhost:8080/"
        },
        "id": "ZUtml_LXnzH1",
        "outputId": "53b77bbf-3b00-430b-bf1d-414b59e40321"
      },
      "source": [
        "# 어떠한 점수에 대해 90점 이상이면 A, 80점 이상이면 B, 70점 이상이면 C, 60점 이상이면 D. 나머지 F인 코드를 작성하시오.\n",
        "# 단 100점인경우 성적이 A이며 동시에 선물을 증정하도록 하시오.\n",
        "\n",
        "\n",
        "\n",
        "score = 89\n",
        "\n",
        "if score >= 90:\n",
        "  print('A')\n",
        "  if score == 100:\n",
        "    print('선물 증정')\n",
        "elif score >= 80:\n",
        "  print('B')\n",
        "elif score >= 70:\n",
        "  print('C')\n",
        "elif score >= 60:\n",
        "  print('D')\n",
        "else:\n",
        "  print('F')\n",
        "\n",
        "print('수하셧읍니다^^^^^^^^^^^')"
      ],
      "execution_count": 13,
      "outputs": [
        {
          "output_type": "stream",
          "name": "stdout",
          "text": [
            "B\n",
            "수고요\n"
          ]
        }
      ]
    },
    {
      "cell_type": "code",
      "metadata": {
        "id": "qZz99wSFp6GM"
      },
      "source": [
        ""
      ],
      "execution_count": null,
      "outputs": []
    }
  ]
}